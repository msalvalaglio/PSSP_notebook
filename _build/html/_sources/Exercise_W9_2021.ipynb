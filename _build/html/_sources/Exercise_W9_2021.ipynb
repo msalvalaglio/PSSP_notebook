{
 "cells": [
  {
   "cell_type": "markdown",
   "metadata": {},
   "source": [
    "# Week 9 - Exercise"
   ]
  },
  {
   "cell_type": "markdown",
   "metadata": {},
   "source": [
    "## Problem Statement\n",
    "\n",
    "The cumulative particle size distribution $N(L)$ has been measured for two different MSMPR crystallization processes (A and B) and is reported in Fig. 1. Both processes are producing the same compact crystals, under different residence times and temperatures. The growth rate is known to be independent from both temperature and composition ($G=const$). The nucleation rate $J$ instead depends exponentially on the inverse of the temperature through an Arrhenius-like expression ($J=A\\exp{-B/T}$,  where $A$ and $B$ are constants).\n",
    "\n",
    "<img src=\"https://raw.githubusercontent.com/msalvalaglio/PSSP_notebook/master/PSDs_exercise.png\" alt=\"Drawing\" style=\"width: 600px;\">\n",
    "\n",
    "### Tasks:\n",
    "- Compute and plot the number density, length, area, and normalised mass distribution for these two processes. Download the dataset: [plain text](https://raw.githubusercontent.com/msalvalaglio/PSSP_notebook/master/EX_W9_data.txt), [excel xlsx format](https://raw.githubusercontent.com/msalvalaglio/PSSP_notebook/master/EX_W9_data.xlsx).\n",
    "- Compute the dominant length $L_D$ obtained from both processes. \n",
    "- Can you say anything about the residence time in the two crystallisers? \n",
    "- Which process is operating at the highest temperature? "
   ]
  },
  {
   "cell_type": "markdown",
   "metadata": {},
   "source": [
    "### Solution\n",
    "- [Contributed by Guilherme Pizarro Werner](https://raw.githubusercontent.com/msalvalaglio/PSSP_notebook/master/PSSP_Solution_Proposal_PizarroWerner.pdf)\n",
    "- [Contributed by Nikita Gusev](https://raw.githubusercontent.com/msalvalaglio/PSSP_notebook/master/Week_9_Exercise_Gusev.pdf)"
   ]
  },
  {
   "cell_type": "code",
   "execution_count": null,
   "metadata": {},
   "outputs": [],
   "source": []
  }
 ],
 "metadata": {
  "kernelspec": {
   "display_name": "Python 3 (ipykernel)",
   "language": "python",
   "name": "python3"
  },
  "language_info": {
   "codemirror_mode": {
    "name": "ipython",
    "version": 3
   },
   "file_extension": ".py",
   "mimetype": "text/x-python",
   "name": "python",
   "nbconvert_exporter": "python",
   "pygments_lexer": "ipython3",
   "version": "3.11.7"
  }
 },
 "nbformat": 4,
 "nbformat_minor": 4
}
