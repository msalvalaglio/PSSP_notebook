{
 "cells": [
  {
   "cell_type": "markdown",
   "metadata": {},
   "source": [
    "# 2. Pervaporation"
   ]
  },
  {
   "cell_type": "markdown",
   "metadata": {},
   "source": [
    "## 2.1 Vapour-Liquid Equilibrium in a Pervaporation unit"
   ]
  },
  {
   "cell_type": "markdown",
   "metadata": {},
   "source": [
    "In pervaporation processes the feed/retentate is liquid, while the permeate is in the vapour phase. \n",
    "In this process, evaporation and permeation of different chemical through a semipermeable membrane take place simultaneously.    \n",
    "\n",
    "In order to tame the complexity of the processes taking place in this unit, a typical modelling assumption is that Vapour liquid equilibrium is established on the feed retentate side and permeation through the membrane takes place in the vapour phase.  \n",
    "\n",
    "Hence, pervaporation can be treated as a gas permeation problem by introducing a _virtual vapour phase_ in equilibrium with the liquid on the retentate side of the membrane. \n",
    "\n",
    "The driving force for a specie $i$ can thus be written as the difference in the partial pressure for component $i$ in this virtual vapour phase, and in the real vapour phase on the permeate side. "
   ]
  },
  {
   "cell_type": "markdown",
   "metadata": {},
   "source": [
    "## 2.2 Vapour-Liquid Equilibrium conditions"
   ]
  },
  {
   "cell_type": "markdown",
   "metadata": {},
   "source": [
    "To express the partial pressure of component $i$ in a vapour phase in equilibrium with the liquid on the retentate side we shall begin by expressing the fundamental condition that has to be fulfilled by all species at thermodynamic equilibrium: \n",
    "\n",
    "$$\n",
    "\\mu_i^L(T,P,\\vec{x})=\\mu_i^V(T,P,\\vec{y})\n",
    "$$(PVAPeq:fund)\n",
    "\n",
    "where $\\mu_i^L(T,P,\\vec{x})$ and $\\mu_i^V(T,P,\\vec{y})$ are the chemical potentials for specie $i$ in the liquid and vapour phase, respectively. \n",
    "\n",
    "For mixtures of ideal gases the chemical potential is conveniently expressed in differential form as a function of the partial pressure of component $i$, $p_i$ as $d\\mu_i=RTd\\ln{p_i}$.  \n",
    "In analogy with this expression in the case of real gases fugacity $f_i$ is introduced, leading to the differential expression $d\\mu_i=RTd\\ln{f_i}$. \n",
    "Integrating this expression between the phases in equilibrium yields: \n",
    "\n",
    "$$\n",
    "\\int_{L,T,P,\\vec{x}}^{V,T,P,\\vec{y}}d\\mu_i=\\int_{L,T,P,\\vec{x}}^{V,T,P,\\vec{y}}RTd\\ln{f_i}\n",
    "$$\n",
    "$$\n",
    "\\mu_i^V(T,P,\\vec{y})-\\mu_i^L(T,P,\\vec{x})=RT\\ln\\frac{f_i^V(T,P,\\vec{y}}{f_i^L(T,P,\\vec{x})}\n",
    "$$(PVAPeq:chempot)\n",
    "\n",
    "\n",
    "Hence, the equilibrium condition expressed by Eq. {eq}`PVAPeq:fund` can be conveniently stated as: \n",
    "\n",
    "$$\n",
    "f_i^V(T,P,\\vec{y})=f_i^L(T,P,\\vec{x})\n",
    "$$(PVAPeq:EQUI)\n",
    "\n",
    "The left-hand term can be written as: \n",
    "\n",
    "$$\n",
    "f_i^V(T,P,\\vec{y})=\\phi(T,P,\\vec{y})Py_i\n",
    "$$(PVAPeq:vapour)\n",
    "\n",
    "where $\\phi(T,P,\\vec{y})$ is the fugacity coefficient, $P$ the pressure and $y_i$ the molar fraction in the vapour phase. \n",
    "\n",
    "The right hand side term can instead be written as: \n",
    "\n",
    "$$\n",
    "f_i^L(T,P,\\vec{x})=\\gamma_i(T,P,\\vec{x})x_i\\phi(T,P^o(T))P^o(T)e^{\\frac{v_i(P-P^o(T))}{RT}}\n",
    "$$(PVAPeq:liquid)\n",
    "\n",
    "where $x_i$ is the molar fraction of component $i$ in the liquid phase, $\\gamma_i(T,P,\\vec{x})$ is the activity coefficient for component i in the liquid mixture, $P^o(T)$ is the equilibrium vapour pressure of the pure component $i$, $\\phi(T,P^o(T))$ is the fugacity coefficient for the pure component $i$ at $T$ and $P^o(T)$, and the term $e^{\\frac{v_i(P-P^o(T))}{RT}}$ is the Poynting correction. For a discussion on the origin of the Poynting correction please refer to the notes on osmosis. \n",
    "\n",
    "Introducing Eq.{eq}`PVAPeq:vapour` and Eq. {eq}`PVAPeq:liquid` in Eq.{eq}`PVAPeq:EQUI`, while considering negligible the Poynting correction, and ideal gas approximation applicable yields: \n",
    "\n",
    "$$\n",
    "Py_i=\\gamma_i(T,P,\\vec{x})P^o(T)x_i\n",
    "$$(PVAPeq:final)\n",
    "\n",
    "It should be noted that introducing the further hypothesis of ideal liquid mixture yields the Raoult law: \n",
    "\n",
    "$$\n",
    "Py_i=P^o(T)x_i\n",
    "$$(PVAPeq:Raoult)\n"
   ]
  },
  {
   "cell_type": "markdown",
   "metadata": {},
   "source": [
    "## 2.3 Flux Equation in a pervaporation Unit"
   ]
  },
  {
   "cell_type": "markdown",
   "metadata": {},
   "source": [
    "Considering now a binary mixture of components $i$ and $j$, the flux equation for species $i$ in a pervaporation unit is: \n",
    "\n",
    "$$\n",
    "J_i=\\frac{P_i}{l}\\left(\\gamma_i(T,P,\\vec{x})x^r_ip_i^o(T)-p_py^p_i\\right)\n",
    "$$(PVAPeq:flux)\n",
    "\n",
    "where $P_i$ is the permeability of species $i$ through the membrane, $l$ the thickness of the membrane, $\\gamma_i(T,P,\\vec{x})x^r_ip_i^o(T)$ is the partial pressure in the virtual vapour phase in equilibrium with the liquid on the retentate side, $p_p$ the pressure on the permeate side, and $y^p_i$ the molar fraction of component $i$ in the real vapour phase on the permeate side.\n",
    "\n",
    "The flux equation of component $j$ can be expressed as a function of the molar fractions of component $i$ taking advantage of the stoichiometric constraints $\\sum_{i=1}^{N}x^r_i=1$, $\\sum_{i=1}^{N}y^p_i=1$. \n",
    "\n",
    "$$\n",
    "J_j=\\frac{P_j}{l}\\left(\\gamma_j(T,P,\\vec{x})(1-x^r_i)p_j^o(T)-p_p(1-y^p_i)\\right)\n",
    "$$(PVAPeq:flux2)\n",
    "\n"
   ]
  }
 ],
 "metadata": {
  "kernelspec": {
   "display_name": "Python 3",
   "language": "python",
   "name": "python3"
  },
  "language_info": {
   "codemirror_mode": {
    "name": "ipython",
    "version": 3
   },
   "file_extension": ".py",
   "mimetype": "text/x-python",
   "name": "python",
   "nbconvert_exporter": "python",
   "pygments_lexer": "ipython3",
   "version": "3.7.7"
  }
 },
 "nbformat": 4,
 "nbformat_minor": 4
}
