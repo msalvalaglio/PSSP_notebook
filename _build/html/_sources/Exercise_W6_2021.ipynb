{
 "cells": [
  {
   "cell_type": "markdown",
   "metadata": {},
   "source": [
    "# Week 6 - Exercise"
   ]
  },
  {
   "cell_type": "markdown",
   "metadata": {},
   "source": [
    "## Problem Statement\n",
    "\n",
    "Continuous slurry adsorption is carried out to reduce the pollutant content in an aqueous stream from an inlet concentration of 1x10$^{-2}$ mol l$^{-1}$ . The flowrate of the aqueous stream is 50 m$^3$ h$^{-1}$ . \n",
    "The adsorbent flowrate is 750 kg h$^{-1}$. The residence time is 3 h. \n",
    "\n",
    "Adsorption is controlled by external mass transfer with a coefficient k$_L$= 0.5 m h$^{-1}$. \n",
    "The adsorbent particles have a surface area of 10 m$^2$ kg$^{-1}$ and a density of 1850 kg m$^{-3}$.\n",
    "Consider a linear isotherm of the form $q=kc$, where $q$ [mol kg$^{-1}$] is the amount of phenol adsorbed per kg of adsorbent, $c$ is the molar concentration of pollutant in solution and $k=1\\times{10}^4$ [l kg$^{-1}$] is the partition coefficient. \n",
    "\n",
    "Determine the steady state concentration of pollutant in the aqueous stream leaving the unit. "
   ]
  }
 ],
 "metadata": {
  "kernelspec": {
   "display_name": "Python 3 (ipykernel)",
   "language": "python",
   "name": "python3"
  },
  "language_info": {
   "codemirror_mode": {
    "name": "ipython",
    "version": 3
   },
   "file_extension": ".py",
   "mimetype": "text/x-python",
   "name": "python",
   "nbconvert_exporter": "python",
   "pygments_lexer": "ipython3",
   "version": "3.11.7"
  }
 },
 "nbformat": 4,
 "nbformat_minor": 4
}
