{
 "cells": [
  {
   "cell_type": "markdown",
   "metadata": {},
   "source": [
    "# Week 8 - Exercise"
   ]
  },
  {
   "cell_type": "markdown",
   "metadata": {},
   "source": [
    "## Problem Statement 1\n",
    "\n",
    "- In a system with two monotropic polymorphs, is it true that the polymorph with the lowest solubility is thermodynamically more stable?\n",
    "\n",
    "- Can you demonstrate it using the definition of solubility? "
   ]
  },
  {
   "cell_type": "markdown",
   "metadata": {},
   "source": [
    "## Solution Trace \n",
    "_[contributed by Nikita Gusev, 9/March/2021]_\n",
    "\n",
    "- Crystal polymorphs are defined as substances that are chemically identical but exist in more than one crystal form. A polymorphic transition is a reversible transition of a solid crystalline phase at a certain temperature and pressure (the inversion point) to another phase of the same chemical composition with a different crystal structure. \n",
    "For a monotropic system, plots of the solubility of the various polymorphs against temperature do not cross, meaning that different polymorphs always have different solubilities, and different stability.\n",
    "Solution of a crystal is favored if the energy of dissolution is greater than the lattice energy, i.e., by dissolving, a compound forms a more thermodynamically stable state. In that sense, if the solubility of a polymorph is greater, means that this polymorph is less stable in its\n",
    "crystalline state, and vice versa, the polymorph with the lowest solubility is thermodynamically more stable in its crystalline state.\n",
    "\n",
    "- The chemical potential of a solid crystalline phase is given by:\n",
    "\n",
    "$$\n",
    "\\mu_{i}^s\\simeq\\mu_0+RT\\ln{x_i^*}\n",
    "$$\n",
    "\n",
    "where $x_i^*$ is the solubility.\n",
    "\n",
    "From the equation above it can be seen than the lower is the solubility, the lower is the chemical potential and we know that the phase with the lowest chemical potential at any temperature is the most stable phase at that temperature. This again shows that a less soluble polymorph is more stable.\n",
    "\n"
   ]
  },
  {
   "cell_type": "markdown",
   "metadata": {},
   "source": [
    "## Problem Statement 2\n",
    "An aqueous feed of 10000 kg h$^{-1}$, saturated with $BaCl_2$ at 100$^o$C, enters a crystallizer that can be simulated with the MSMPR model. The slurry leaves the crystallizer at 20$^o$C with crystals of the dihydrate. The crystallizer has a volume of 2.0 $m^3$. From laboratory experiments, the crystal growth rate is essentially constant at $4.0\\times{10^{-7}}$ m/s. The solubility of $BaCl_2$ is 58.3 g/100 g water at 100$^o$ C and 35.7 g/100 g water at 20$^o$ C. The molar mass of $BaCl_2$ is 208.27 g/mol, the the dihydrate, $BaCl_22H_2O$ has a molar mass of 244.31 g/mol. The density of the crystals is 3097 $kg/m^3$, the density of the solution in the crystallizer is 1279 $kg/m^3$ \n",
    "\n",
    "- Determine the mass flow rate of crystals in the product stream.\n",
    "- Compute the predominant crystal size $L_D$ in mm."
   ]
  },
  {
   "cell_type": "markdown",
   "metadata": {},
   "source": [
    "## Solution Trace\n",
    "_[Nikita Gusev and Guilherme Pizarro Werner, 9/March/2021]_\n",
    "\n",
    "A total material balance around the crystallizer (assuming steady state):\n",
    "\n",
    "$$\n",
    "F=V+L+S\n",
    "$$\n",
    "where: \n",
    "- $F$ = total feed rate (kg/h) \n",
    "- $V$ = evaporation rate\n",
    "- $L$ = Liquid phase flow rate kg/h of liquid\n",
    "- $S$ = Crystals flow rate kg/h of crystals\n",
    "\n",
    "Assuming evaporation is negligible and rearranging for $L$:\n",
    "\n",
    "$$L=F-S$$ \n",
    "\n",
    "Material balance for $BaCl_2$:\n",
    "\n",
    "$$\n",
    "x_F{F} = x_LL + x_SS\n",
    "$$\n",
    "\n",
    "- where $x_F$, $x_L$, $x_S$ are the mass fractions of $BaCl_2$ in feed, liquid and crystals, respectively.\n",
    "\n",
    "F is known, and mass fractions can be found from the data, so we have two equations and two unknowns (L and S), and so there is 0 degrees of freedom and the problem can be solved.\n",
    "\n",
    "Solving simultaneously using the expressions above:\n",
    "\n",
    "$$\n",
    "x_FF= x_L(F - S) + x_SS\n",
    "$$\n",
    "\n",
    "Rearranging:\n",
    "\n",
    "$$\n",
    "S = F \\frac{x_F-x_L}{x_S-x_L}\n",
    "$$\n",
    "\n",
    "\n",
    "Now finding the mass fractions:\n",
    "\n",
    "$$\n",
    "x_{F,L}=\\frac{w_{F,L}}{w_{F,L} + 100}\n",
    "$$\n",
    "\n",
    "where $w_{F,L}$ is the solubility mass of solute per 100 g of water. \n",
    "\n",
    "$$\n",
    "x_S=\\frac{MM_{BaCl_2}}{MM_{BaCl_22H_2O}}\n",
    "$$"
   ]
  },
  {
   "cell_type": "code",
   "execution_count": 1,
   "metadata": {},
   "outputs": [
    {
     "name": "stdout",
     "output_type": "stream",
     "text": [
      "\n",
      "Feed mass fraction  0.3683  [-]\n",
      "Liquid phase mass fraction  0.2631 [-]\n",
      "Crystal mass fraction  0.8525 [-]\n",
      "Crystals flowrate:  1.785e+03  [kg/h]\n",
      "Liquid phase flowrate:  8.215e+03  [kg/h]\n"
     ]
    }
   ],
   "source": [
    "## Solution trace\n",
    "# Variables\n",
    "wF=58.3 #g/100 g water \n",
    "wL=35.7 #g/100 g water \n",
    "MMBaCl2= 208.27 #g/mol\n",
    "MMBaCl22H2O=244.31 #g/mol\n",
    "F=1E4 #kg/h\n",
    "\n",
    "\n",
    "xF=wF/(wF+100);\n",
    "xL=wL/(wL+100);\n",
    "xS=MMBaCl2/MMBaCl22H2O;\n",
    "\n",
    "S=F*(xF-xL)/(xS-xL)\n",
    "\n",
    "L=F-S\n",
    "\n",
    "print(\"\\nFeed mass fraction \", f\"{xF:.4}\", \" [-]\")\n",
    "print(\"Liquid phase mass fraction \", f\"{xL:.4}\", \"[-]\")\n",
    "print(\"Crystal mass fraction \", f\"{xS:.4}\", \"[-]\")\n",
    "print(\"Crystals flowrate: \", f\"{S:.4}\", \" [kg/h]\")\n",
    "print(\"Liquid phase flowrate: \", f\"{L:.4}\",  \" [kg/h]\")"
   ]
  },
  {
   "cell_type": "markdown",
   "metadata": {},
   "source": [
    "The modal or dominant particle size can be computed as:\n",
    "\n",
    "$$\n",
    "L=3G\\tau\n",
    "$$\n",
    "\n",
    "where:\n",
    "\n",
    "- $\\tau$ = average residence time \n",
    "- $G$ = growth rate\n",
    "\n",
    "We need to find the average residence time:\n",
    "\n",
    "$$\n",
    "\\tau = \\frac{V}{Q} \n",
    "$$\n",
    "\n",
    "where:\n",
    "\n",
    "- $V$  = volume of the crystallizer \n",
    "- $Q$  = outlet volumetric flowrate \n",
    "\n",
    "But first we need to calculate the outlet volumetric flowrate:\n",
    "\n",
    "$$\n",
    "Q=\\frac{S}{\\rho_S}+\\frac{L}{\\rho_L}\n",
    "$$"
   ]
  },
  {
   "cell_type": "code",
   "execution_count": 2,
   "metadata": {},
   "outputs": [
    {
     "name": "stdout",
     "output_type": "stream",
     "text": [
      "\n",
      "The volumetric flowrate  6.945 [m3/h]\n",
      "The residence time  1.037e+03 [s]\n",
      "The predominant crystal size is  1.244  [mm]\n"
     ]
    }
   ],
   "source": [
    "## Solution trace\n",
    "# Variables\n",
    "rho_C=3097 \n",
    "rho_L=1290\n",
    "V=2 #m3\n",
    "G=4E-7 #m/s\n",
    "\n",
    "Q=L/rho_L+S/rho_C #m3/h\n",
    "\n",
    "tau=V/Q*3600 #s\n",
    "\n",
    "LD=3*G*tau*1E3 #mm\n",
    "\n",
    "print(\"\\nThe volumetric flowrate \", f\"{Q:.4}\", \"[m3/h]\")\n",
    "print(\"The residence time \", f\"{tau:.4}\", \"[s]\")\n",
    "print(\"The predominant crystal size is \", f\"{LD:.4}\", \" [mm]\")"
   ]
  }
 ],
 "metadata": {
  "kernelspec": {
   "display_name": "Python 3 (ipykernel)",
   "language": "python",
   "name": "python3"
  },
  "language_info": {
   "codemirror_mode": {
    "name": "ipython",
    "version": 3
   },
   "file_extension": ".py",
   "mimetype": "text/x-python",
   "name": "python",
   "nbconvert_exporter": "python",
   "pygments_lexer": "ipython3",
   "version": "3.11.7"
  }
 },
 "nbformat": 4,
 "nbformat_minor": 4
}
