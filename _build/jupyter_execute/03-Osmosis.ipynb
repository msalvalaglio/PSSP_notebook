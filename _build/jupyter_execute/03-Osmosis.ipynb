{
 "cells": [
  {
   "cell_type": "markdown",
   "metadata": {},
   "source": [
    "# 3. On the thermodynamic origin of the osmotic pressure"
   ]
  },
  {
   "cell_type": "markdown",
   "metadata": {},
   "source": [
    "## 3.1 Osmosis"
   ]
  },
  {
   "cell_type": "markdown",
   "metadata": {},
   "source": [
    "Osmosis is a mass transfer process that takes place spontaneously when two compartments, containing fluid mixtures of different composition are separated by a semipermeable membrane, i.e. a membrane that restricts the transfer of one of the components across compartments. \n",
    "\n",
    "For the sake of simplicity, let us consider for now an ideal semipermeable membrane that completely restricts the transfer of the solute, while instead allowing the permeation of a solvent.\n",
    "\n",
    "Let us consider an initial state characterised by two compartments (1 and 2), at the same temperature T and pressure P. \n",
    "Compartment 1 contains a binary mixture of component B (solute) in component A (solvent), e.g. NaCl in water. Compartment 2 instead contains a pure component A (e.g. pure water).\n",
    "\n",
    "If the membrane is semipermeable and allows for the passage of the solvent alone the process of osmosis will lead to an equilibrium condition in which: \n",
    "\n",
    "- Component A has transferred from compartment 2 to compartment 1. \n",
    "- An pressure difference between compartments is established, where : $P_1>P_2$.\n",
    "- The pressure difference between compartments at equilibrium is the _osmotic pressure_ $\\pi=P_1-P_2$.\n",
    "\n",
    "In the next paragraphs we will see what is the thermodynamic origin of the osmotic pressure. \n"
   ]
  },
  {
   "cell_type": "markdown",
   "metadata": {},
   "source": [
    "## 3.2 Equilibrium Conditions"
   ]
  },
  {
   "attachments": {},
   "cell_type": "markdown",
   "metadata": {},
   "source": [
    "In order to understand the origin of the osmotic pressure, i.e. pressure difference induced by a composition difference across compartments separated by a semipermeable membrane, we begin by defining the the equilibrium state for the system described in the previous paragraph.\n",
    "To this aim we can rely on the thermodynamic definition of equilibrium for component A (e.g. water), i.e. the only component that can transfer across the membrane. \n",
    "Equilibrium is defined when $A$ has the same chemical potential in both compartments\n",
    "\n",
    "$$\n",
    "\\mu_{A,1}=\\mu_{A,2}\n",
    "$$(eq0)\n",
    "\n",
    "The equilibrium condition is conveniently written introducing fugacity. \n",
    "Fugacity and chemical potential are related by the expression $\\mu_i=\\mu_0+RT\\ln{f_i}$, where $\\mu_0$ is the chemical potential of an arbitrary reference state. \n",
    "\n",
    "Equilibrium can conditions are thus equivalently formulated as: \n",
    "\n",
    "$$\n",
    "f_{A,1}=f_{A,2}\n",
    "$$(eq:Equilibrium)\n",
    "\n",
    "_In compartment 1_ we have a _non-ideal_ mixture of two components. The fugacity of component A in compartment 1 is thus written as: \n",
    "$$\n",
    "f_{A,1}=f_A(T,P_1,x_A)=\\gamma_A(T,P_1,x_A)x_A f_A(T,P_1)\n",
    "$$(eq:leftside)\n",
    "\n",
    "where: \n",
    "- $\\gamma_A(T,P_1,x_A)$ is the activity coefficient of specie A in the mixture\n",
    "- $x_A$ is the molar fraction of component A\n",
    "- $f_A(T,P_1)$ is the fugacity of the _pure component A_ at temperature $T$ and pressure $P_1$\n",
    "\n",
    "_In compartment 2_ we have instewad a pure component A liquid, at temperature $T$ and pressure $P_2$. The fugacity of component A in compartment 2 thus simply corresponds to the fugacity of the pure component A at $T$, $P_2$: \n",
    "$$\n",
    "f_{A,2}=f_A(T,P_2)\n",
    "$$(eq:rightside)\n",
    "\n",
    "__The Poynting correction__ In order to define a common reference state between the two compartments we rewrite fugacity of the pure component A at pressure $P_2$ ($f_A(T,P_2)$) as a function of the fugacity of the pure component A at pressure $P_1$ and of the pressure difference $(P_2-P_1)$.\n",
    "\n",
    "To do that we express the difference in chemical potential $\\Delta\\mu_{P_1\\rightarrow{P_2}}$ between pure liquid A at temperature $T$ and pressure $P_1$ and pure liquid A at temperature $T$ and pressure $P_2$: \n",
    "\n",
    "$$\n",
    "\\Delta\\mu_{P_1\\rightarrow{P_2}}=\\int_{T,P_1}^{T,P_2}d\\mu=\\int_{T,P_1}^{T,P_2}vdP=v(P_2-P_1)\n",
    "$$(eq1)\n",
    "\n",
    "where: \n",
    "\n",
    "- the expression introduced for the definition of the $\\Delta\\mu$ is the Gibbs Duhem equation ($d{\\mu}=-sdT+vdP$)\n",
    "- $v$ is the molar volume of the system\n",
    "\n",
    "Using the definition of fugacity introduced earlier one can thus write: \n",
    "\n",
    "$$\n",
    "\\Delta\\mu_{P_1\\rightarrow{P_2}}=RT\\ln\\frac{f_A(T,P_2)}{f_A(T,P_1)}=v(P_2-P_1)\n",
    "$$(eq2)\n",
    "\n",
    "The fugacity of a pure A liquid at pressure $P_2$ can thus be written as: \n",
    "\n",
    "$$\n",
    "f_A(T,P_2)={f_A(T,P_1)}\\left[\\exp\\left(\\frac{v(P_2-P_1)}{RT}\\right)\\right]\n",
    "$$(eq3)\n",
    "\n",
    "where the term $\\left[\\exp\\left(\\frac{v(P_2-P_1)}{RT}\\right)\\right]$ is the Poynting correction."
   ]
  },
  {
   "cell_type": "markdown",
   "metadata": {},
   "source": [
    "## 3.3 The Osmotic Pressure"
   ]
  },
  {
   "cell_type": "markdown",
   "metadata": {},
   "source": [
    "Given the definition of equilibrium conditions, the expressions of the fugacity of component A in the two compartments 1 and 2, and the Poynting correction given in the previous paragraph we can write:\n",
    "\n",
    "$$\n",
    "\\gamma_A(T,P_1,x_A)x_A f_A(T,P_1)={f_A(T,P_1)}\\left[\\exp\\left(\\frac{v(P_2-P_1)}{RT}\\right)\\right]\n",
    "$$(eq)\n",
    "\n",
    "where $f_A(T,P_1)$ is the fugacity of the pure component A at pressure $P_1$, now appearing on both sides of the equation. \n",
    "\n",
    "We can thus divide both sides by $f_A(T,P_1)$ to obtain the expression: \n",
    "\n",
    "$$\n",
    "\\gamma_A(T,P_1,x_A)x_A =\\left[\\exp\\left(\\frac{v(P_2-P_1)}{RT}\\right)\\right]\n",
    "$$(eq4)\n",
    "\n",
    "Rearranging this expression one obtains: \n",
    "\n",
    "$$\n",
    "P_2-P_1=\\frac{RT}{v}\\ln\\left({\\gamma_A(T,P_1,x_A)x_A}\\right)\n",
    "$$(eq5)\n",
    " \n",
    " Recalling that the Osmotic pressure $\\pi=P_1-P_2$ we get: \n",
    " \n",
    "$$\n",
    "\\pi=-\\frac{RT}{v}\\ln\\left({\\gamma_A(T,P_1,x_A)x_A}\\right)\n",
    "$$(eq6)\n",
    "\n",
    "This expression \\textbf{relates the composition of compartment 1}, containing a mixture of components A and B (e.g NaCl in water),  \\textbf{to the osmotic pressure} generated at equilibrium conditions when such compartment is in contact with a \\textbf{semipermeable} membrane that has on the opposite side a compartment filled by pure component A liquid. \n",
    "\n",
    "Please note that in this expression $x_A$ is the molar fraction of the solvent (e.g. water). Since we are considering a binary system and from an engineering standpoint what is typically measured is the solute concentration we can rewrite the expression as follows: \n",
    "  \n",
    "$$\n",
    "\\pi=-\\frac{RT}{v}\\ln\\left({\\gamma_A(T,P_1,x_A)(1-x_B)}\\right)\n",
    "$$(eq7)\n",
    "\n",
    "Where now $x_B$ is the molar fraction of component $B$ (e.g. NaCl).\n",
    "When the solution in compartment 1 is diluted ($x_B$ small), $\\gamma_A(T,P_1,x_A)\\rightarrow{1}$,  $\\ln{\\left({(1-x_B)}\\right)}\\rightarrow{-x_B}$thus: \n",
    "$$\n",
    "\\pi=-\\frac{RT}{v}\\ln\\left({(1-x_B)}\\right)={RT\\frac{x_B}{v}}\\simeq{RTc_B}\n",
    "$$(eq8)\n",
    "\n",
    "Where $c_B\\simeq{x_B}v^{-1}$ is the molar concentration of component B, the solute."
   ]
  },
  {
   "cell_type": "markdown",
   "metadata": {},
   "source": [
    "### 3.3.1 Dependence of the Osmotic pressure on the composition of the system"
   ]
  },
  {
   "cell_type": "markdown",
   "metadata": {},
   "source": [
    "Note that the expression $\\pi={RTc_B}$ is only valid for small molar fractions of component B, the solute."
   ]
  },
  {
   "cell_type": "code",
   "execution_count": 1,
   "metadata": {},
   "outputs": [
    {
     "data": {
      "image/png": "[encoded data removed]",
      "text/plain": [
       "<Figure size 640x480 with 1 Axes>"
      ]
     },
     "metadata": {},
     "output_type": "display_data"
    }
   ],
   "source": [
    "import numpy as np\n",
    "import matplotlib.pyplot as plt \n",
    "\n",
    "# Parameters: \n",
    "# molar fraction in the feed\n",
    "N = 100 #number of points\n",
    "x_B = np.linspace(0, 0.999, N)\n",
    "\n",
    "#Operating Equation\n",
    "pi = - np.log(1-x_B)\n",
    "pi_simple = x_B\n",
    "\n",
    "#Plotting\n",
    "figure=plt.figure()\n",
    "axes = figure.add_axes([0.1,0.1,0.8,0.8])\n",
    "plt.xticks(fontsize=14)\n",
    "plt.yticks(fontsize=14)\n",
    "axes.plot(x_B,pi, marker=' ' , color='r')\n",
    "axes.plot(x_B,pi_simple, marker=' ' , color='b')\n",
    "axes.set_xlim([0,1]);\n",
    "axes.set_ylim([0,1]);\n",
    "plt.title('Osmotic Pressure vs Solute Concentration', fontsize=18);\n",
    "axes.set_xlabel('Molar Fraction of component B', fontsize=14);\n",
    "axes.set_ylabel('Dimensionless Osmotic Pressure',fontsize=14);"
   ]
  },
  {
   "cell_type": "markdown",
   "metadata": {},
   "source": [
    "Note that the dimensionless osmotic pressure plotted abotve is obtained as $\\pi{v}/RT$."
   ]
  },
  {
   "cell_type": "markdown",
   "metadata": {},
   "source": [
    "## 3.4 Flux of the solvent suring Osmosis"
   ]
  },
  {
   "cell_type": "markdown",
   "metadata": {},
   "source": [
    "In osmosis the flux of the solvent (component A) through a membrane is driven by the difference between the $\\Delta{P}=P_1-P_2$ across compartments and the osmotic pressure $\\pi$: \n",
    "\n",
    "$$\n",
    "J_A=p_A\\left( \\Delta{P} - \\pi \\right)\n",
    "$$(eq9)\n",
    "\n",
    "where $p_A$ is the permeability of the membrane with respect to component A. \n",
    "\n",
    "At equilibrium, when $\\Delta{P}=\\pi$ the net flux across compartments is null. Without adding any external pressure the spontaneous direction of the flux is from compartment 2 to compartment 1 ($J<0$).\n",
    "\n",
    "If we add a pressure, such that $\\Delta{P}>\\pi$ we induce the opposite flux, from compartment 1 to compartment 2. This process is named reverse osmosis. \n"
   ]
  },
  {
   "cell_type": "code",
   "execution_count": 2,
   "metadata": {},
   "outputs": [
    {
     "ename": "TypeError",
     "evalue": "FigureBase.gca() got an unexpected keyword argument 'projection'",
     "output_type": "error",
     "traceback": [
      "\u001b[0;31m---------------------------------------------------------------------------\u001b[0m",
      "\u001b[0;31mTypeError\u001b[0m                                 Traceback (most recent call last)",
      "Cell \u001b[0;32mIn[2], line 25\u001b[0m\n\u001b[1;32m     23\u001b[0m figure\u001b[38;5;241m=\u001b[39mplt\u001b[38;5;241m.\u001b[39mfigure(figsize\u001b[38;5;241m=\u001b[39m(\u001b[38;5;241m10\u001b[39m, \u001b[38;5;241m8\u001b[39m))\n\u001b[1;32m     24\u001b[0m \u001b[38;5;66;03m#axes = figure.add_axes([0.1,0.1,0.1,1.2,1.2,1.2])\u001b[39;00m\n\u001b[0;32m---> 25\u001b[0m axes \u001b[38;5;241m=\u001b[39m figure\u001b[38;5;241m.\u001b[39mgca(projection \u001b[38;5;241m=\u001b[39m\u001b[38;5;124m'\u001b[39m\u001b[38;5;124m3d\u001b[39m\u001b[38;5;124m'\u001b[39m) \n\u001b[1;32m     27\u001b[0m plt\u001b[38;5;241m.\u001b[39mxticks(fontsize\u001b[38;5;241m=\u001b[39m\u001b[38;5;241m14\u001b[39m)\n\u001b[1;32m     28\u001b[0m plt\u001b[38;5;241m.\u001b[39myticks(fontsize\u001b[38;5;241m=\u001b[39m\u001b[38;5;241m14\u001b[39m)\n",
      "\u001b[0;31mTypeError\u001b[0m: FigureBase.gca() got an unexpected keyword argument 'projection'"
     ]
    },
    {
     "data": {
      "text/plain": [
       "<Figure size 1000x800 with 0 Axes>"
      ]
     },
     "metadata": {},
     "output_type": "display_data"
    }
   ],
   "source": [
    "import numpy as np\n",
    "import pandas as pd\n",
    "from matplotlib import cm\n",
    "import matplotlib.pyplot as plt \n",
    "from mpl_toolkits.mplot3d import Axes3D \n",
    "\n",
    "# Parameters: \n",
    "# molar fraction in the feed\n",
    "N = 100 #number of points\n",
    "DeltaP = np.linspace(0, 1, N)\n",
    "x_B = np.linspace(0, 0.8, N)\n",
    "P_A= 1 \n",
    "DeltaP, x_B = np.meshgrid(DeltaP, x_B) \n",
    "\n",
    "pi = - np.log(1-x_B)\n",
    "\n",
    "#Flux Equation\n",
    "J_A = P_A * (DeltaP - pi)\n",
    "\n",
    "\n",
    "#Plotting\n",
    "\n",
    "figure=plt.figure(figsize=(10, 8))\n",
    "#axes = figure.add_axes([0.1,0.1,0.1,1.2,1.2,1.2])\n",
    "axes = figure.gca(projection ='3d') \n",
    "\n",
    "plt.xticks(fontsize=14)\n",
    "plt.yticks(fontsize=14)\n",
    "\n",
    "surf=axes.plot_surface(x_B,DeltaP,J_A,cmap=cm.coolwarm,\n",
    "                       linewidth=0, antialiased=False,alpha=0.5)\n",
    "\n",
    "contour=axes.contour(x_B,DeltaP,J_A,[0])\n",
    "\n",
    "plt.title('Osmotic Flux vs $\\Delta{P}$ / $x_B$', fontsize=18);\n",
    "axes.set_xlabel('$x_B$', fontsize=14);\n",
    "axes.set_ylabel('$\\Delta{P}$',fontsize=14);\n",
    "figure.colorbar(surf, shrink=0.5, aspect=5);\n"
   ]
  }
 ],
 "metadata": {
  "kernelspec": {
   "display_name": "Python 3",
   "language": "python",
   "name": "python3"
  },
  "language_info": {
   "codemirror_mode": {
    "name": "ipython",
    "version": 3
   },
   "file_extension": ".py",
   "mimetype": "text/x-python",
   "name": "python",
   "nbconvert_exporter": "python",
   "pygments_lexer": "ipython3",
   "version": "3.11.10"
  }
 },
 "nbformat": 4,
 "nbformat_minor": 4
}