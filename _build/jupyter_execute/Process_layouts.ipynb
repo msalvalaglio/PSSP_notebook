{
 "cells": [
  {
   "cell_type": "markdown",
   "metadata": {},
   "source": [
    "# 4. Membrane Processes Layouts"
   ]
  },
  {
   "cell_type": "markdown",
   "metadata": {},
   "source": [
    "In this set of notes we will use an example ultrafiltration process to introduce material balances in different process configurations. We will consider a Batch, semi-Batch (feed and bleed) and continuous membrane processes to develop general ideas around material balances in membrane units. Every example will be introduced by a slight variant of a common problem statement. "
   ]
  },
  {
   "cell_type": "markdown",
   "metadata": {},
   "source": [
    "## 4.1 Batch"
   ]
  },
  {
   "cell_type": "markdown",
   "metadata": {},
   "source": [
    "__Problem Statement__ \n",
    "\n",
    "500 l of fruit juice are concentrated from an initial solid-residue content of 0.05 kg/l to a solid-residue content of 0.2 kg/l through a batch microfiltration process. The total area of the membrane is of 20 $\\mathrm{m^2}$ and the flux of pure water through the membrane is captured by the empirical expression: $J=BC^{-1} [m/h]$ with $B=0.1$ where C is the solid residue concentration in kg/l. Compute the process time necessary to reach the target concentration.\n",
    "\n",
    "<img src=\"./batch.png\" alt=\"Drawing\" style=\"width: 300px;\">"
   ]
  },
  {
   "cell_type": "markdown",
   "metadata": {},
   "source": [
    "__Solution trace__\n",
    "\n",
    "The global differential material balance (volume basis) reads: \n",
    "\n",
    "$$\n",
    "\\frac{dV}{dt}=-J\\,A\n",
    "$$(PLYeq1)\n",
    "\n",
    "where $V$ is the volume in the concentrate loop, $J$ the permeate flux per unit area and $A$ the total membrane area. \n",
    "The permeate flux is defined by the expression: \n",
    "\n",
    "$$\n",
    "J=BC^{-1}\n",
    "$$(PLYeq2)\n",
    "\n",
    "with $B=0.1$. \n",
    "\n",
    "Since the solid residue never leaves the retentate loop,  the differential material balance on the solid residue reads: \n",
    "\n",
    "$$\n",
    "\\frac{dm}{dt}=0 \n",
    "$$(PLYeq3)\n",
    "\n",
    "Which means that the total mass of solid residue is constant and equal to its initial mass:\n",
    "\n",
    "$$\n",
    "m=m_0=V_0C_0 \n",
    "$$(PLYeq4)\n",
    "\n",
    "The global differential material balance can thus be rewritten as: \n",
    "\n",
    "$$\n",
    "\\frac{dV}{dt}=-J\\,A=-\\frac{B}{V_0C_0 }AV\n",
    "$$(PLYeq5)\n",
    "\n",
    "In this simple case it can be integrated analytically to compute the volume as a function of time: \n",
    "\n",
    "$$\n",
    "\\int_{V_0}^{V^{\\prime}}\\frac{dV}{V}=\\int_0^{t^{\\prime}}-\\frac{B}{V_0C_0 }Adt\n",
    "$$(PLYeq6)\n",
    "\n",
    "$$\n",
    "\\int_{V_0}^{V^{\\prime}}\\frac{dV}{V}=\\left[\\ln{V}\\right]^{V^{\\prime}}_{V_0}=\\ln\\left(\\frac{V^\\prime}{V_0}\\right)\n",
    "$$(PLYeq7)\n",
    "\n",
    "$$\n",
    "\\int_0^{t^{\\prime}}-\\frac{B}{V_0C_0 }Adt=-\\frac{B}{V_0C_0 }At^\\prime\n",
    "$$(PLYeq8)\n",
    "\n",
    "Putting together both sides of the equation and substituting $V^\\prime$ with $V$ for the sake of simplicity in the notation we get: \n",
    "\n",
    "$$\n",
    "V(t)=V_0e^{-\\frac{B}{V_0C_0 }At}\n",
    "$$(PLYeq9)\n",
    "\n",
    "which describes the time dependence of the volume in the batch membrane separator. \n",
    "\n",
    "The concentration can thus be calculated as: \n",
    "\n",
    "$$\n",
    "C(t)=\\frac{m}{V(t)}=\\frac{C_0V_0}{V_0}e^{\\frac{B}{V_0C_0 }At}={C_0}e^{\\frac{B}{V_0C_0 }At}\n",
    "$$(PLYeq10)\n",
    "\n",
    "The process time necessary to obtain a solid residue concentration of 0.2 $[kg/l]$ is of 17.3 $[h]$"
   ]
  },
  {
   "cell_type": "markdown",
   "metadata": {},
   "source": [
    "__Numerical solution__"
   ]
  },
  {
   "cell_type": "code",
   "execution_count": 1,
   "metadata": {},
   "outputs": [
    {
     "ename": "ValueError",
     "evalue": "setting an array element with a sequence. The requested array has an inhomogeneous shape after 1 dimensions. The detected shape was (2,) + inhomogeneous part.",
     "output_type": "error",
     "traceback": [
      "\u001b[0;31m---------------------------------------------------------------------------\u001b[0m",
      "\u001b[0;31mValueError\u001b[0m                                Traceback (most recent call last)",
      "Cell \u001b[0;32mIn[1], line 45\u001b[0m\n\u001b[1;32m     43\u001b[0m axes\u001b[38;5;241m.\u001b[39mplot(time,C, marker\u001b[38;5;241m=\u001b[39m\u001b[38;5;124m'\u001b[39m\u001b[38;5;124m \u001b[39m\u001b[38;5;124m'\u001b[39m , color\u001b[38;5;241m=\u001b[39m\u001b[38;5;124m'\u001b[39m\u001b[38;5;124mr\u001b[39m\u001b[38;5;124m'\u001b[39m)\n\u001b[1;32m     44\u001b[0m axes\u001b[38;5;241m.\u001b[39mplot([process_time,process_time],[\u001b[38;5;241m0\u001b[39m, C_specific], marker\u001b[38;5;241m=\u001b[39m\u001b[38;5;124m'\u001b[39m\u001b[38;5;124m \u001b[39m\u001b[38;5;124m'\u001b[39m , color\u001b[38;5;241m=\u001b[39m\u001b[38;5;124m'\u001b[39m\u001b[38;5;124mlime\u001b[39m\u001b[38;5;124m'\u001b[39m, markersize\u001b[38;5;241m=\u001b[39m\u001b[38;5;241m3\u001b[39m)\n\u001b[0;32m---> 45\u001b[0m \u001b[43maxes\u001b[49m\u001b[38;5;241;43m.\u001b[39;49m\u001b[43mplot\u001b[49m\u001b[43m(\u001b[49m\u001b[43m[\u001b[49m\u001b[38;5;241;43m0\u001b[39;49m\u001b[43m,\u001b[49m\u001b[43mprocess_time\u001b[49m\u001b[43m]\u001b[49m\u001b[43m,\u001b[49m\u001b[43m[\u001b[49m\u001b[43mC_specific\u001b[49m\u001b[43m,\u001b[49m\u001b[43m \u001b[49m\u001b[43mC_specific\u001b[49m\u001b[43m]\u001b[49m\u001b[43m,\u001b[49m\u001b[43m \u001b[49m\u001b[43mmarker\u001b[49m\u001b[38;5;241;43m=\u001b[39;49m\u001b[38;5;124;43m'\u001b[39;49m\u001b[38;5;124;43m \u001b[39;49m\u001b[38;5;124;43m'\u001b[39;49m\u001b[43m \u001b[49m\u001b[43m,\u001b[49m\u001b[43m \u001b[49m\u001b[43mcolor\u001b[49m\u001b[38;5;241;43m=\u001b[39;49m\u001b[38;5;124;43m'\u001b[39;49m\u001b[38;5;124;43mlime\u001b[39;49m\u001b[38;5;124;43m'\u001b[39;49m\u001b[43m,\u001b[49m\u001b[43m \u001b[49m\u001b[43mmarkersize\u001b[49m\u001b[38;5;241;43m=\u001b[39;49m\u001b[38;5;241;43m3\u001b[39;49m\u001b[43m)\u001b[49m\n\u001b[1;32m     48\u001b[0m axes\u001b[38;5;241m.\u001b[39mplot([process_time,process_time],[\u001b[38;5;241m0\u001b[39m, C_specific], marker\u001b[38;5;241m=\u001b[39m\u001b[38;5;124m'\u001b[39m\u001b[38;5;124m \u001b[39m\u001b[38;5;124m'\u001b[39m , color\u001b[38;5;241m=\u001b[39m\u001b[38;5;124m'\u001b[39m\u001b[38;5;124mlime\u001b[39m\u001b[38;5;124m'\u001b[39m, markersize\u001b[38;5;241m=\u001b[39m\u001b[38;5;241m3\u001b[39m)\n\u001b[1;32m     51\u001b[0m axes\u001b[38;5;241m.\u001b[39mplot(process_time,C_specific, marker\u001b[38;5;241m=\u001b[39m\u001b[38;5;124m'\u001b[39m\u001b[38;5;124mo\u001b[39m\u001b[38;5;124m'\u001b[39m , color\u001b[38;5;241m=\u001b[39m\u001b[38;5;124m'\u001b[39m\u001b[38;5;124mlime\u001b[39m\u001b[38;5;124m'\u001b[39m, markersize\u001b[38;5;241m=\u001b[39m\u001b[38;5;241m10\u001b[39m)\n",
      "File \u001b[0;32m~/anaconda3/lib/python3.11/site-packages/matplotlib/axes/_axes.py:1721\u001b[0m, in \u001b[0;36mAxes.plot\u001b[0;34m(self, scalex, scaley, data, *args, **kwargs)\u001b[0m\n\u001b[1;32m   1478\u001b[0m \u001b[38;5;250m\u001b[39m\u001b[38;5;124;03m\"\"\"\u001b[39;00m\n\u001b[1;32m   1479\u001b[0m \u001b[38;5;124;03mPlot y versus x as lines and/or markers.\u001b[39;00m\n\u001b[1;32m   1480\u001b[0m \n\u001b[0;32m   (...)\u001b[0m\n\u001b[1;32m   1718\u001b[0m \u001b[38;5;124;03m(``'green'``) or hex strings (``'#008000'``).\u001b[39;00m\n\u001b[1;32m   1719\u001b[0m \u001b[38;5;124;03m\"\"\"\u001b[39;00m\n\u001b[1;32m   1720\u001b[0m kwargs \u001b[38;5;241m=\u001b[39m cbook\u001b[38;5;241m.\u001b[39mnormalize_kwargs(kwargs, mlines\u001b[38;5;241m.\u001b[39mLine2D)\n\u001b[0;32m-> 1721\u001b[0m lines \u001b[38;5;241m=\u001b[39m [\u001b[38;5;241m*\u001b[39m\u001b[38;5;28mself\u001b[39m\u001b[38;5;241m.\u001b[39m_get_lines(\u001b[38;5;28mself\u001b[39m, \u001b[38;5;241m*\u001b[39margs, data\u001b[38;5;241m=\u001b[39mdata, \u001b[38;5;241m*\u001b[39m\u001b[38;5;241m*\u001b[39mkwargs)]\n\u001b[1;32m   1722\u001b[0m \u001b[38;5;28;01mfor\u001b[39;00m line \u001b[38;5;129;01min\u001b[39;00m lines:\n\u001b[1;32m   1723\u001b[0m     \u001b[38;5;28mself\u001b[39m\u001b[38;5;241m.\u001b[39madd_line(line)\n",
      "File \u001b[0;32m~/anaconda3/lib/python3.11/site-packages/matplotlib/axes/_base.py:303\u001b[0m, in \u001b[0;36m_process_plot_var_args.__call__\u001b[0;34m(self, axes, data, *args, **kwargs)\u001b[0m\n\u001b[1;32m    301\u001b[0m     this \u001b[38;5;241m+\u001b[39m\u001b[38;5;241m=\u001b[39m args[\u001b[38;5;241m0\u001b[39m],\n\u001b[1;32m    302\u001b[0m     args \u001b[38;5;241m=\u001b[39m args[\u001b[38;5;241m1\u001b[39m:]\n\u001b[0;32m--> 303\u001b[0m \u001b[38;5;28;01myield from\u001b[39;00m \u001b[38;5;28;43mself\u001b[39;49m\u001b[38;5;241;43m.\u001b[39;49m\u001b[43m_plot_args\u001b[49m\u001b[43m(\u001b[49m\n\u001b[1;32m    304\u001b[0m \u001b[43m    \u001b[49m\u001b[43maxes\u001b[49m\u001b[43m,\u001b[49m\u001b[43m \u001b[49m\u001b[43mthis\u001b[49m\u001b[43m,\u001b[49m\u001b[43m \u001b[49m\u001b[43mkwargs\u001b[49m\u001b[43m,\u001b[49m\u001b[43m \u001b[49m\u001b[43mambiguous_fmt_datakey\u001b[49m\u001b[38;5;241;43m=\u001b[39;49m\u001b[43mambiguous_fmt_datakey\u001b[49m\u001b[43m)\u001b[49m\n",
      "File \u001b[0;32m~/anaconda3/lib/python3.11/site-packages/matplotlib/axes/_base.py:488\u001b[0m, in \u001b[0;36m_process_plot_var_args._plot_args\u001b[0;34m(self, axes, tup, kwargs, return_kwargs, ambiguous_fmt_datakey)\u001b[0m\n\u001b[1;32m    485\u001b[0m         kw[prop_name] \u001b[38;5;241m=\u001b[39m val\n\u001b[1;32m    487\u001b[0m \u001b[38;5;28;01mif\u001b[39;00m \u001b[38;5;28mlen\u001b[39m(xy) \u001b[38;5;241m==\u001b[39m \u001b[38;5;241m2\u001b[39m:\n\u001b[0;32m--> 488\u001b[0m     x \u001b[38;5;241m=\u001b[39m \u001b[43m_check_1d\u001b[49m\u001b[43m(\u001b[49m\u001b[43mxy\u001b[49m\u001b[43m[\u001b[49m\u001b[38;5;241;43m0\u001b[39;49m\u001b[43m]\u001b[49m\u001b[43m)\u001b[49m\n\u001b[1;32m    489\u001b[0m     y \u001b[38;5;241m=\u001b[39m _check_1d(xy[\u001b[38;5;241m1\u001b[39m])\n\u001b[1;32m    490\u001b[0m \u001b[38;5;28;01melse\u001b[39;00m:\n",
      "File \u001b[0;32m~/anaconda3/lib/python3.11/site-packages/matplotlib/cbook.py:1358\u001b[0m, in \u001b[0;36m_check_1d\u001b[0;34m(x)\u001b[0m\n\u001b[1;32m   1352\u001b[0m \u001b[38;5;66;03m# plot requires `shape` and `ndim`.  If passed an\u001b[39;00m\n\u001b[1;32m   1353\u001b[0m \u001b[38;5;66;03m# object that doesn't provide them, then force to numpy array.\u001b[39;00m\n\u001b[1;32m   1354\u001b[0m \u001b[38;5;66;03m# Note this will strip unit information.\u001b[39;00m\n\u001b[1;32m   1355\u001b[0m \u001b[38;5;28;01mif\u001b[39;00m (\u001b[38;5;129;01mnot\u001b[39;00m \u001b[38;5;28mhasattr\u001b[39m(x, \u001b[38;5;124m'\u001b[39m\u001b[38;5;124mshape\u001b[39m\u001b[38;5;124m'\u001b[39m) \u001b[38;5;129;01mor\u001b[39;00m\n\u001b[1;32m   1356\u001b[0m         \u001b[38;5;129;01mnot\u001b[39;00m \u001b[38;5;28mhasattr\u001b[39m(x, \u001b[38;5;124m'\u001b[39m\u001b[38;5;124mndim\u001b[39m\u001b[38;5;124m'\u001b[39m) \u001b[38;5;129;01mor\u001b[39;00m\n\u001b[1;32m   1357\u001b[0m         \u001b[38;5;28mlen\u001b[39m(x\u001b[38;5;241m.\u001b[39mshape) \u001b[38;5;241m<\u001b[39m \u001b[38;5;241m1\u001b[39m):\n\u001b[0;32m-> 1358\u001b[0m     \u001b[38;5;28;01mreturn\u001b[39;00m \u001b[43mnp\u001b[49m\u001b[38;5;241;43m.\u001b[39;49m\u001b[43matleast_1d\u001b[49m\u001b[43m(\u001b[49m\u001b[43mx\u001b[49m\u001b[43m)\u001b[49m\n\u001b[1;32m   1359\u001b[0m \u001b[38;5;28;01melse\u001b[39;00m:\n\u001b[1;32m   1360\u001b[0m     \u001b[38;5;28;01mreturn\u001b[39;00m x\n",
      "File \u001b[0;32m~/anaconda3/lib/python3.11/site-packages/numpy/core/shape_base.py:65\u001b[0m, in \u001b[0;36matleast_1d\u001b[0;34m(*arys)\u001b[0m\n\u001b[1;32m     63\u001b[0m res \u001b[38;5;241m=\u001b[39m []\n\u001b[1;32m     64\u001b[0m \u001b[38;5;28;01mfor\u001b[39;00m ary \u001b[38;5;129;01min\u001b[39;00m arys:\n\u001b[0;32m---> 65\u001b[0m     ary \u001b[38;5;241m=\u001b[39m \u001b[43masanyarray\u001b[49m\u001b[43m(\u001b[49m\u001b[43mary\u001b[49m\u001b[43m)\u001b[49m\n\u001b[1;32m     66\u001b[0m     \u001b[38;5;28;01mif\u001b[39;00m ary\u001b[38;5;241m.\u001b[39mndim \u001b[38;5;241m==\u001b[39m \u001b[38;5;241m0\u001b[39m:\n\u001b[1;32m     67\u001b[0m         result \u001b[38;5;241m=\u001b[39m ary\u001b[38;5;241m.\u001b[39mreshape(\u001b[38;5;241m1\u001b[39m)\n",
      "\u001b[0;31mValueError\u001b[0m: setting an array element with a sequence. The requested array has an inhomogeneous shape after 1 dimensions. The detected shape was (2,) + inhomogeneous part."
     ]
    },
    {
     "data": {
      "image/png": "[encoded data removed]",
      "text/plain": [
       "<Figure size 640x480 with 1 Axes>"
      ]
     },
     "metadata": {},
     "output_type": "display_data"
    },
    {
     "data": {
      "image/png": "[encoded data removed]",
      "text/plain": [
       "<Figure size 640x480 with 1 Axes>"
      ]
     },
     "metadata": {},
     "output_type": "display_data"
    }
   ],
   "source": [
    "import numpy as np\n",
    "import matplotlib.pyplot as plt \n",
    "from scipy.optimize import fsolve\n",
    "\n",
    "# Parameters: \n",
    "N = 500 #number of points\n",
    "time = np.linspace(0, 30, N)\n",
    "\n",
    "#Every length in m\n",
    "\n",
    "A=20;  #m^2\n",
    "B=0.1;\n",
    "C0=0.05*1E3; #kg /l * dm^3/m^3\n",
    "V0=500*1E-3; #l * m^3/dm^3\n",
    "\n",
    "C_specific = 0.2*1E3\n",
    "\n",
    "#Operating Equation\n",
    "C = C0*np.exp(B*A/V0/C0*time) \n",
    "V = V0*np.exp(-B*A/V0/C0*time) \n",
    "\n",
    "def equation(proc_time):\n",
    "    eq1 = C0*np.exp(B*A/V0/C0*proc_time) - C_specific\n",
    "    return eq1\n",
    "\n",
    "process_time = fsolve(equation,[1])\n",
    "\n",
    "#Plotting\n",
    "figure=plt.figure()\n",
    "axes = figure.add_axes([0.1,0.1,0.8,0.8])\n",
    "plt.xticks(fontsize=14)\n",
    "plt.yticks(fontsize=14)\n",
    "axes.plot(time,V, marker=' ' , color='b')\n",
    "\n",
    "plt.title('Suspension Volume', fontsize=18);\n",
    "axes.set_xlabel('time [h]', fontsize=14);\n",
    "axes.set_ylabel('V [m$^3$]',fontsize=14);\n",
    "\n",
    "figure=plt.figure()\n",
    "axes = figure.add_axes([0.1,0.1,0.8,0.8])\n",
    "plt.xticks(fontsize=14)\n",
    "plt.yticks(fontsize=14)\n",
    "axes.plot(time,C, marker=' ' , color='r')\n",
    "axes.plot([process_time,process_time],[0, C_specific], marker=' ' , color='lime', markersize=3)\n",
    "axes.plot([0,process_time],[C_specific, C_specific], marker=' ' , color='lime', markersize=3)\n",
    "\n",
    "\n",
    "axes.plot([process_time,process_time],[0, C_specific], marker=' ' , color='lime', markersize=3)\n",
    "\n",
    "\n",
    "axes.plot(process_time,C_specific, marker='o' , color='lime', markersize=10)\n",
    "\n",
    "plt.title('Solute concentration', fontsize=18);\n",
    "axes.set_xlabel('time [h]', fontsize=14);\n",
    "axes.set_ylabel('concentration [kg/m$^3$]',fontsize=14);\n",
    "\n",
    "print(\"The process time necessary to obtain a solid residue concentration of\", C_specific, \"[kg/l] is:\", process_time, \"[h]\") "
   ]
  },
  {
   "cell_type": "markdown",
   "metadata": {},
   "source": [
    "## 4.2 Feed and Bleed"
   ]
  },
  {
   "cell_type": "markdown",
   "metadata": {},
   "source": [
    "__Feed and Bleed:  Problem Statement__\n",
    "\n",
    "500 l of fruit juice are concentrated in 5 h of steady state operation from an initial solid-residue content of 0.05 $kg/l$ through a feed and bleed process. The total area of the membrane is of 20 $m^2$ and the flux of pure water through the membrane is captured by the empirical expression: $J=BC^{-1} [m/h]$ with $B=0.1$ where C is the solid residue concentration in kg/l. Is the steady state concentration of the retentate compatible with the specifics of 0.2 $kg/l$? \n",
    "\n",
    "<img src=\"feedandbleed.png\" alt=\"Drawing\" style=\"width: 300px;\">"
   ]
  },
  {
   "cell_type": "markdown",
   "metadata": {},
   "source": [
    "__Feed and Bleed: Solution trace__\n",
    "\n",
    "Also in this case the global differential material balance and the solid-residue material balance can be written as follows: \n",
    "\n",
    "$$\n",
    "\\frac{dV}{dt}=Q_{IN}-J\\,A-Q_{OUT}=0\n",
    "$$(PLYeq11)\n",
    "\n",
    "$$\n",
    "\\frac{dm}{dt}=Q_{IN}C_{IN}-Q_{OUT}C_{OUT}=0\n",
    "$$(PLYeq12)\n",
    "\n",
    "At steady state ${dV}/{dt}=0$ as well as ${dm}/{dt}=0$. The two ODEs become then two algebraic equations that should be solved together to compute the steady state concentration. \n",
    "From the global material balance we get: \n",
    "\n",
    "$$\n",
    "Q_{OUT}=Q_{IN}-J\\,A=Q_{IN}-\\frac{B}{C_{OUT}}A\n",
    "$$(PLYeq13)\n",
    "\n",
    "and then, with some manipulations: \n",
    "\n",
    "$$\n",
    "C_{OUT}=C_{IN}+\\frac{AB}{Q_{IN}}\n",
    "$$(PLYeq14)"
   ]
  },
  {
   "cell_type": "code",
   "execution_count": 2,
   "metadata": {},
   "outputs": [
    {
     "name": "stdout",
     "output_type": "stream",
     "text": [
      "The steady state concentration is 70.0 [kg/m^3]\n"
     ]
    }
   ],
   "source": [
    "import numpy as np\n",
    "import matplotlib.pyplot as plt \n",
    "from scipy.optimize import fsolve\n",
    "\n",
    "# data: \n",
    "A=20;  #[m^2]\n",
    "B=0.1;\n",
    "C0=0.05*1E3; #kg /l * dm^3/m^3\n",
    "V0=500*1E-3; #l * m^3/dm^3\n",
    "process_time=5; # [h]\n",
    "\n",
    "Cout=C0+A*B*process_time/V0\n",
    "\n",
    "\n",
    "print(\"The steady state concentration is\", Cout, \"[kg/m^3]\") "
   ]
  },
  {
   "cell_type": "markdown",
   "metadata": {},
   "source": [
    "## 4.3 Cascade configuration"
   ]
  },
  {
   "cell_type": "markdown",
   "metadata": {},
   "source": [
    "__Problem Statement__\n",
    "\n",
    "500 l of fruit juice are concentrated in 5 h of steady state operation from an initial solid-residue content of 0.05 kg/l through four membrane separation units characterised by a total membrane area of 20 $\\mathrm{m^2}$ each.\n",
    "The flux of pure water through the membrane is captured by the empirical expression: $J=BC^{-1} [m/h]$ with $B=0.1$ where C is the solid residue concentration in kg/l.\n",
    "\n",
    "Is it more efficient to design a single stage configuration with four units in parallel or a cascade configuration with four units in series? \n",
    "\n",
    "<img src=\"cascade.png\" alt=\"Drawing\" style=\"width: 600px;\">"
   ]
  },
  {
   "cell_type": "markdown",
   "metadata": {},
   "source": [
    "__Cascade: Solution trace__\n",
    "\n",
    "Each stage can be treated like a single unit in which the feed stream corresponds to the retentate stream from the previous unit.\n",
    "We can thus define: \n",
    "\n",
    "$$\n",
    "C_{OUT,i}=C_{IN,i+1}\n",
    "$$(PLYeq15)\n",
    "\n",
    "$$\n",
    "Q_{OUT,i}=Q_{IN,i+1}\n",
    "$$(PLYeq16)\n",
    "\n",
    "where the index $i$ identifies the stage. \n",
    "\n",
    "The material balances for each stage at steady state can thus be written as: \n",
    "\n",
    "$$\n",
    "\\frac{dV}{dt}=Q_{IN,i}-n_iJ(C_{IN,i+1})\\,A-Q_{IN,i+1}=0\n",
    "$$(PLYeq17)\n",
    "\n",
    "$$\n",
    "\\frac{dm}{dt}=Q_{IN,i}C_{IN}-Q_{IN,i+1}C_{IN,i+1}=0\n",
    "$$(PLYeq18)\n",
    "\n",
    "where $n_i$ is the number of modules used in stage $i$.\n",
    "\n",
    "For each stage we can thus compute the steady state concentration and concentrate volumetric flow by solving sequentially the following equations:  \n",
    "\n",
    "$$\n",
    "C_{IN,i+1}=C_{IN,i}+n_i\\frac{AB}{Q_{IN,i}}\n",
    "$$(PLYeq19)\n",
    "\n",
    "$$\n",
    "Q_{IN,i+1}=\\frac{C_{IN,i}{Q_{IN,i}}}{C_{IN,i+1}}\n",
    "$$(PLYeq20)\n",
    "\n",
    "with $i=1...N$ with $N$ is the total number of stages. "
   ]
  },
  {
   "cell_type": "markdown",
   "metadata": {},
   "source": [
    "__Numerical Solution__ \n",
    "\n",
    "The solution of a cascade composed of any number of stages, each formed by an arbitrary number of modules in parallel can be tackled sequentially through a simple cycle similar to the following, let's for example consider a system that reflects the sketch above i.e. with 4 stages implementing 4, 3, 2, and 1 modules each: "
   ]
  },
  {
   "cell_type": "code",
   "execution_count": 3,
   "metadata": {},
   "outputs": [
    {
     "name": "stdout",
     "output_type": "stream",
     "text": [
      "The steady state concentration is 720.7199999999999 [kg/m^3]\n"
     ]
    }
   ],
   "source": [
    "import numpy as np\n",
    "import matplotlib.pyplot as plt \n",
    "from scipy.optimize import fsolve\n",
    "\n",
    "# data: \n",
    "A=20;  \n",
    "B=0.1;\n",
    "C0=0.05*1E3; #kg /l * dm^3/m^3\n",
    "V0=500*1E-3; #l * m^3/dm^3\n",
    "process_time=5; # [h]\n",
    "\n",
    "\n",
    "# The number of elements of this array corresponds to the number of stages. \n",
    "# The value in each element is the number of modules per stage. \n",
    "n=np.array([4,3,2,1]);\n",
    "\n",
    "CIN=np.append(C0,np.zeros(np.size(n)-1))\n",
    "FIN=np.append(V0/process_time, np.zeros(np.size(n)-1));\n",
    "\n",
    "# Input to the intermediate stages\n",
    "for i in range(1,np.size(n)): \n",
    "    CIN[i]=CIN[i-1]+n[i-1]*A*B/FIN[i-1];\n",
    "    FIN[i]=CIN[i-1]*FIN[i-1]/CIN[i];\n",
    "\n",
    "# Output concentration\n",
    "Cout=CIN[np.size(n)-1]+n[np.size(n)-1]*A*B/FIN[np.size(n)-1];\n",
    "\n",
    "print(\"The steady state concentration is\", Cout, \"[kg/m^3]\") "
   ]
  },
  {
   "cell_type": "markdown",
   "metadata": {},
   "source": [
    "In order to answer the problem request one should solve the system for two different configurations. \n",
    "In the first, representing a single-stage configuration with four membrane units in parallel, the number of stages should be set to $N=1$ and the number of units in the first stage $n_1$ to 4. "
   ]
  },
  {
   "cell_type": "code",
   "execution_count": 4,
   "metadata": {},
   "outputs": [
    {
     "name": "stdout",
     "output_type": "stream",
     "text": [
      "The steady state concentration is 130.0 [kg/m^3]\n"
     ]
    }
   ],
   "source": [
    "# The number of elements of this array corresponds to the number of stages. \n",
    "# The value in each element is the number of modules per stage. \n",
    "n=np.array([4]);\n",
    "\n",
    "CIN=np.append(C0,np.zeros(np.size(n)-1))\n",
    "FIN=np.append(V0/process_time, np.zeros(np.size(n)-1));\n",
    "\n",
    "# Input to the intermediate stages\n",
    "for i in range(1,np.size(n)): \n",
    "    CIN[i]=CIN[i-1]+n[i-1]*A*B/FIN[i-1];\n",
    "    FIN[i]=CIN[i-1]*FIN[i-1]/CIN[i];\n",
    "\n",
    "# Output concentration\n",
    "Cout=CIN[np.size(n)-1]+n[np.size(n)-1]*A*B/FIN[np.size(n)-1];\n",
    "\n",
    "print(\"The steady state concentration is\", Cout, \"[kg/m^3]\") "
   ]
  },
  {
   "cell_type": "markdown",
   "metadata": {},
   "source": [
    "In the second the number of stages should be set to $N=4$, each of the stages being assembled as a single unit ($n_i=1$ for $i=[1, 4]$)."
   ]
  },
  {
   "cell_type": "code",
   "execution_count": 5,
   "metadata": {},
   "outputs": [
    {
     "name": "stdout",
     "output_type": "stream",
     "text": [
      "The steady state concentration is 192.07999999999998 [kg/m^3]\n"
     ]
    }
   ],
   "source": [
    "# The number of elements of this array corresponds to the number of stages. \n",
    "# The value in each element is the number of modules per stage. \n",
    "n=np.array([1, 1, 1, 1]);\n",
    "\n",
    "CIN=np.append(C0,np.zeros(np.size(n)-1))\n",
    "FIN=np.append(V0/process_time, np.zeros(np.size(n)-1));\n",
    "\n",
    "# Input to the intermediate stages\n",
    "for i in range(1,np.size(n)): \n",
    "    CIN[i]=CIN[i-1]+n[i-1]*A*B/FIN[i-1];\n",
    "    FIN[i]=CIN[i-1]*FIN[i-1]/CIN[i];\n",
    "\n",
    "# Output concentration\n",
    "Cout=CIN[np.size(n)-1]+n[np.size(n)-1]*A*B/FIN[np.size(n)-1];\n",
    "\n",
    "print(\"The steady state concentration is\", Cout, \"[kg/m^3]\") "
   ]
  },
  {
   "cell_type": "markdown",
   "metadata": {},
   "source": [
    "The cascade configuration allows for a more efficient process since it allows to obtain a larger concentration with the same number of modules. "
   ]
  }
 ],
 "metadata": {
  "kernelspec": {
   "display_name": "Python 3",
   "language": "python",
   "name": "python3"
  },
  "language_info": {
   "codemirror_mode": {
    "name": "ipython",
    "version": 3
   },
   "file_extension": ".py",
   "mimetype": "text/x-python",
   "name": "python",
   "nbconvert_exporter": "python",
   "pygments_lexer": "ipython3",
   "version": "3.11.7"
  }
 },
 "nbformat": 4,
 "nbformat_minor": 4
}