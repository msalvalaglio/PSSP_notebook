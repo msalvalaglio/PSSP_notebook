{
 "cells": [
  {
   "cell_type": "markdown",
   "metadata": {},
   "source": [
    "# Week 3 - Exercise"
   ]
  },
  {
   "cell_type": "markdown",
   "metadata": {},
   "source": [
    "## Problem Statement"
   ]
  },
  {
   "cell_type": "markdown",
   "metadata": {},
   "source": [
    "Compute the total membrane area necessary to produce 10 l/h purified water (0.03 wt% NaCl) through a single stage Reverse Osmosis separation of seawater (water 4 wt% NaCl). \n",
    "The feed pressure is 100 bar and the composition in the retentate stream is 7 wt%.  \n",
    "The permeate stream is at ambient pressure (1 bar), all streams are at 25$^o$ C, and the osmotic pressure in bar is captured by the semiempirical expression: \n",
    "\n",
    "$$\n",
    "\\pi=\\frac{1.12}{14.5}T\\sum_{i=1}^Nc_i\n",
    "$$\n",
    "\n",
    "Where T is the temperature in K,  $N$ is the total number of ionic species in solution, and ci is the concentration expressed in $[mol/l]$. \n",
    "\n",
    "The asymmetric membrane used for the separation has a permeance of $10^{-5}\\,[m h^{-1} bar^{-1}]$.\n",
    "\n",
    "Once you have solved the problem consider the following questions:\n",
    "\n",
    "- Can you evaluate the salt rejection in this process, and salt passage? \n",
    "- How would you modify the operation of the system to increase the productivity of the process? \n"
   ]
  },
  {
   "cell_type": "markdown",
   "metadata": {},
   "source": [
    "## Solution trace\n",
    "\n",
    "__Data:__\n",
    "\n",
    "NaCl weigth percentage:<br>\n",
    "$w_{NaCl,P}=0.03$<br>\n",
    "$w_{NaCl,F}=4$<br>\n",
    "$w_{NaCl,R}=7$<br>\n",
    "\n",
    "__Water density:__ \n",
    "$\\rho_{H_2O}$=1$\\times$10$^3$ [g/l]<br>\n",
    "\n",
    "__Working expression:__\n",
    "\n",
    "$$\n",
    "c_{NaCl,i}=\\frac{w_{NaCl,i}}{100}\\times\\frac{\\rho_{Solution,i}}{MM_{NaCl}}\n",
    "$$\n",
    "\n",
    "Where: $i$ indicates the stream we are referring to, $\\rho_{Solution,i}$  is the mass density of the NaCl solution in each stream, and $MM_{NaCl}$ is the molar mass of NaCl. <br>\n",
    "The mass density of the solution $\\rho_{Solution}$ can be computed known the NaCl weight percentage and the density of  water as: \n",
    "\n",
    "$$\n",
    "\\rho_{solution}=\\frac{\\rho_{H_2O}}{1-\\frac{w_{NaCl,i}}{100}}\n",
    "$$\n",
    "\n",
    "__Computing the Osmotic pressure difference across the membrane__<br>\n",
    "The expression provided in the exercise assignment allows to compute the osmotic pressure associated with an assigned concentration of NaCl in a solution of assigned NaCl concentration. \n",
    "_Note that the concentration appearing in such expression is the total ionic concentration, which can be computed from the NaCl concentration knowing the unit formula of NaCl._ \n",
    "\n",
    "$$\n",
    "c_{TOT,i}=c_{Na^+,i}+c_{Cl^-,i}=2c_{NaCl,i}\n",
    "$$\n",
    "\n",
    "Note that in this case it is typically reasonable to assume the concentration on the feed/retentate side of the membrane to be the average between concentrations in the feed and retentate.\n",
    "\n",
    "$$\n",
    "c_{TOT,F/R}=2 \\left({\\frac{c_{NaCl,F}+c_{NaCl,R}}{2}}\\right)\n",
    "$$\n",
    "\n",
    "Alternatively one can consider the feed/retentate side to be perfectly mixed and its composition constant and equal to the retentate one.\n",
    "\n",
    "The difference in the osmotic pressure can thus be computed as: \n",
    "\n",
    "$$\n",
    "\\Delta{\\pi}=\\frac{1.12}{14.5}T\\left(c_{TOT,F/R}-c_{TOT,P}\\right)\n",
    "$$\n",
    "\n",
    "__Computing the membrane area__<br>\n",
    "The flow rate through the membrane is computed by the expression:\n",
    "\n",
    "$$\n",
    "F_{p,wat}=J\\times{A}=A\\,P_{wat}\\,\\left(\\Delta{P}-\\Delta{\\pi}\\right)\n",
    "$$\n",
    "\n",
    "hence: \n",
    "\n",
    "$$\n",
    "A=\\frac{F_{p,wat}}{P_{wat}\\,\\left(\\Delta{P}-\\Delta{\\pi}\\right)}\n",
    "$$\n",
    "\n",
    "__Salt rejection__<br>\n",
    "Given the concentrations computed earlier salt rejection can be computed from its definition:\n",
    "\n",
    "$$\n",
    "R_s=1-\\frac{c_{NaCl,P}}{c_{NaCl,R}}\n",
    "$$\n",
    "\n",
    "Salt passage is given by:<br> \n",
    "\n",
    "$$\n",
    "P_s=\\frac{c_{NaCl,P}}{c_{NaCl,R}}\n",
    "$$"
   ]
  },
  {
   "cell_type": "code",
   "execution_count": 1,
   "metadata": {},
   "outputs": [
    {
     "name": "stdout",
     "output_type": "stream",
     "text": [
      "\n",
      "Permeate concentration:  0.00513  [mol/l]\n",
      "Feed concentration:  0.7123  [mol/l]\n",
      "Retentate concentration:  1.287  [mol/l]\n",
      "\n",
      "Osmotic pressure:  45.77  [bar]\n",
      "\n",
      "Membrane area:  18.79  [m^2]\n",
      "Salt rejection:  0.996 [-]\n",
      "Salt passage:  0.004 [-]\n"
     ]
    }
   ],
   "source": [
    "import numpy as np\n",
    "import matplotlib.pyplot as plt \n",
    "from matplotlib.pyplot import cm\n",
    "\n",
    "#\n",
    "PM=1E-5; #[m/h/bar]\n",
    "MMNaCl=58.5; #[g/mol]\n",
    "\n",
    "#Feed Retentate Permeate\n",
    "wtp=np.array([4, 7, 0.03])/100; #mass fractions\n",
    "water_density=1E3; #[g/l]\n",
    "\n",
    "c=wtp*water_density/(MMNaCl*(1-wtp));  #[mol/l]\n",
    "\n",
    "C=1.12/14.5;\n",
    "T=298;\n",
    "pi_P=2*C*T*c[2];\n",
    "pi_R=2*C*T*np.mean(c[0:2]);\n",
    "Dpi=pi_R-pi_P; # [bar]\n",
    "\n",
    "DP=100-1; # [bar]\n",
    "Fpwat=10E-3; # [m3/h]\n",
    "\n",
    "A=Fpwat/PM/(DP-Dpi)\n",
    "\n",
    "SP=c[2]/c[1]\n",
    "SR=(1-SP)\n",
    "\n",
    "print(\"\\nPermeate concentration: \", f\"{c[2]:.4}\", \" [mol/l]\")\n",
    "print(\"Feed concentration: \", f\"{c[0]:.4}\", \" [mol/l]\")\n",
    "print(\"Retentate concentration: \", f\"{c[1]:.4}\", \" [mol/l]\")\n",
    "\n",
    "print(\"\\nOsmotic pressure: \", f\"{Dpi:.4}\", \" [bar]\")\n",
    "\n",
    "print(\"\\nMembrane area: \", f\"{A:.4}\", \" [m^2]\")\n",
    "print(\"Salt rejection: \", f\"{SR:.4}\", \"[-]\")\n",
    "print(\"Salt passage: \", f\"{SP:.2}\", \"[-]\")\n"
   ]
  },
  {
   "cell_type": "markdown",
   "metadata": {},
   "source": [
    "## Contributions\n",
    "\n",
    "Debugged by Nikita Gusev, 29 Jan 2021 "
   ]
  },
  {
   "cell_type": "code",
   "execution_count": null,
   "metadata": {},
   "outputs": [],
   "source": []
  }
 ],
 "metadata": {
  "kernelspec": {
   "display_name": "Python 3 (ipykernel)",
   "language": "python",
   "name": "python3"
  },
  "language_info": {
   "codemirror_mode": {
    "name": "ipython",
    "version": 3
   },
   "file_extension": ".py",
   "mimetype": "text/x-python",
   "name": "python",
   "nbconvert_exporter": "python",
   "pygments_lexer": "ipython3",
   "version": "3.11.7"
  }
 },
 "nbformat": 4,
 "nbformat_minor": 4
}