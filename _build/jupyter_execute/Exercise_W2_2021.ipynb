{
 "cells": [
  {
   "cell_type": "markdown",
   "metadata": {},
   "source": [
    "# Week 2 - Exercise"
   ]
  },
  {
   "cell_type": "markdown",
   "metadata": {},
   "source": [
    "## Problem Statement"
   ]
  },
  {
   "cell_type": "markdown",
   "metadata": {},
   "source": [
    "A perfectly mixed gas permeation module is used to separate carbon dioxide from nitrogen using a poly\n",
    "(2,6-dimethylphenylene oxide) membrane\t($P_{CO_2}=0.034\\times10^{-13}$ $P_{N_2}=0.089\\times10^{-14} [cm^3 (STP) / cm s Pa]$). The process carried out at a temperature of 25$^oC$. \n",
    "The feed flowrate is 20.0 mol% carbon dioxide.\n",
    "The module has 15.0 $m^2$ of membrane. The module is operated with a retentate pressure of 5.5 atm\n",
    "and a permeate pressure of 1.01 atm. \n",
    "\n",
    "The permeate is enriched to 38.0 mol% in carbon dioxide. The membrane thickness is $\\ell = 2.0 \\times 10^{-4}$ cm. \n",
    "\n",
    "- Draw a scheme of the unit clearly labelling all the streams and relevant variables.\n",
    "\n",
    "- Completely characterise the unit, by computing feed, permeate and retentate flow rates, cut, and retentate composition. "
   ]
  },
  {
   "cell_type": "markdown",
   "metadata": {
    "tags": [
     "hide_input"
    ]
   },
   "source": [
    "-----------------------------------------------------------------------------------------------------------------------------------------------\n",
    "## Solution trace\n",
    "<img src=\"./scheme.png\" alt=\"Drawing\" style=\"width: 500px;\">\n",
    "\n",
    "__Unknowns__: \n",
    "$x$,$F_{p}$,$F_{in}$, $F_{r}$, $\\theta$\n",
    "\n",
    "We can start computing the ideal separation factor and the composition in the retentate:\n",
    "\n",
    "$$\n",
    "\\alpha=P_{CO_2}/P_{N_2}\n",
    "$$\n",
    "\n",
    "and then using the rate transfer equation to computing $x$: \n",
    "\n",
    "$$\n",
    "x=\\frac{y\\left[1+\\frac{p_p}{p_r}(1-y)\\left(\\alpha_{AB}-1\\right)\\right]}{\\alpha_{AB}-\\left(\\alpha_{AB}-1\\right)y}\n",
    "$$\n",
    "\n",
    "Then we can compute the cut: \n",
    "\n",
    "$$\n",
    "\\theta=\\frac{z-x}{y-x}\n",
    "$$\n",
    "\n",
    "and the permeate flowrate from the flux equation: \n",
    "\n",
    "$$\n",
    "Fp=\\frac{A\\,P_{CO_2}\\rho_{STP}}{l y}\\left(xP_r-yP_p\\right)\n",
    "$$\n",
    "\n",
    "where $\\rho_{STP}$ is the molar density of an ideal gas at standard T and P. \n",
    "\n",
    "Finally, the retentate flowrate can be computed as: \n",
    "\n",
    "$$\n",
    "F_r=F_{in}-F_p\n",
    "$$\n"
   ]
  },
  {
   "cell_type": "code",
   "execution_count": 1,
   "metadata": {
    "tags": [
     "hide_input"
    ]
   },
   "outputs": [
    {
     "name": "stdout",
     "output_type": "stream",
     "text": [
      "\n",
      "Retentate composition:  0.1826  [-]\n",
      "Cut:  0.08792 [-]\n",
      "Permeate flowrate:  0.06784  [mol/h]\n",
      "Feed flowrate:  0.7715  [mol/h]\n",
      "Retentate flowrate:  0.7037  [mol/h]\n",
      "\n"
     ]
    }
   ],
   "source": [
    "## Solution trace\n",
    "# Variables\n",
    "A=15 * 1E4 # [m^2 * cm^2 / m^2]\n",
    "P_r=5.5 * 101325 # [atm] * [Pa / atm]\n",
    "P_p=1.01 * 101325 # [atm] * [Pa / atm] \n",
    "l=2.0*1E-4 # cm\n",
    "rho_STP=1/22.4E3 # / [mol/cm3(stp)]\n",
    "PCO2=0.034E-13 * 3600 # [cm3(STP) * cm/cm2/s/Pa] * [s/h]\n",
    "PN2=0.089E-14 * 3600#  [cm3(STP) * cm/cm2/s/Pa] * [s/h]\n",
    "# Permeate Composition\n",
    "y=0.38\n",
    "# Feed Composition\n",
    "z = 0.20\n",
    "\n",
    "# 1. compute the retentate composition: \n",
    "alpha=PCO2/PN2\n",
    "x= y * (1 + P_p/P_r * (1-y) * (alpha - 1)) / (alpha - (alpha - 1) * y)\n",
    "\n",
    "# 2. compute the cut: \n",
    "theta=(z-x)/(y-x)\n",
    "\n",
    "# 3. compute the permeate flowrate:\n",
    "Fp=A*PCO2*rho_STP / y / l * (x*P_r-y*P_p)\n",
    "\n",
    "# 4. compute the feed flowrate: \n",
    "Fin=Fp/theta\n",
    "\n",
    "# 5 compute the retentate flowrate: \n",
    "Fr=Fin-Fp\n",
    "\n",
    "print(\"\\nRetentate composition: \", f\"{x:.4}\", \" [-]\")\n",
    "print(\"Cut: \", f\"{theta:.4}\", \"[-]\")\n",
    "print(\"Permeate flowrate: \", f\"{Fp:.4}\", \" [mol/h]\")\n",
    "print(\"Feed flowrate: \", f\"{Fin:.4}\",  \" [mol/h]\")\n",
    "print(\"Retentate flowrate: \", f\"{Fr:.4}\", \" [mol/h]\\n\")"
   ]
  },
  {
   "cell_type": "markdown",
   "metadata": {},
   "source": [
    "__The brute force way__"
   ]
  },
  {
   "cell_type": "code",
   "execution_count": 2,
   "metadata": {
    "tags": [
     "hide_input"
    ]
   },
   "outputs": [
    {
     "name": "stdout",
     "output_type": "stream",
     "text": [
      "\n",
      "Retentate composition:  0.1826  [-]\n",
      "Cut:  0.08792 [-]\n",
      "Permeate flowrate:  0.06784  [mol/h]\n",
      "Feed flowrate:  0.7715  [mol/h]\n",
      "Retentate flowrate:  0.7037  [mol/h]\n",
      "\n"
     ]
    }
   ],
   "source": [
    "## Solution trace\n",
    "import scipy as sp\n",
    "##from sp.optimize import fsolve\n",
    "\n",
    "# Variables\n",
    "A=15 * 1E4 # [m^2 * cm^2 / m^2]\n",
    "P_r=5.5 * 101325 # [atm] * [Pa / atm]\n",
    "P_p=1.01 * 101325 # [atm] * [Pa / atm] \n",
    "l=2.0*1E-4 # cm\n",
    "rho_STP=1/22.4E3 # / [mol/cm3(stp)]\n",
    "PCO2=0.034E-13 * 3600 # [cm3(STP) * cm/cm2/s/Pa] * [s/h]\n",
    "PN2=0.089E-14 * 3600#  [cm3(STP) * cm/cm2/s/Pa] * [s/h]\n",
    "# Permeate Composition\n",
    "y=0.38\n",
    "# Feed Composition\n",
    "z = 0.20\n",
    "\n",
    "alpha=PCO2/PN2\n",
    "\n",
    "def equations(vars):\n",
    "    x, Fin, Fp, Fr, theta = vars\n",
    "    eq1 = ((theta - 1) / theta) * x + (z / theta) - y\n",
    "    eq2 = x - (y * (1 + P_p/P_r * (1-y) * (alpha - 1)) / (alpha - (alpha - 1) * y))\n",
    "    eq3 = Fin - Fr - Fp\n",
    "    eq4 = Fp-A*PCO2*rho_STP / y / l * (x*P_r-y*P_p)\n",
    "    eq5 = Fin - (Fp/theta)\n",
    "    return [eq1, eq2, eq3, eq4, eq5]\n",
    "\n",
    "x, Fin, Fp, Fr, theta =  sp.optimize.fsolve(equations, (0.1, 0.1, 0.1, 0.1, 0.1))\n",
    "\n",
    "print(\"\\nRetentate composition: \", f\"{x:.4}\", \" [-]\")\n",
    "print(\"Cut: \", f\"{theta:.4}\", \"[-]\")\n",
    "print(\"Permeate flowrate: \", f\"{Fp:.4}\", \" [mol/h]\")\n",
    "print(\"Feed flowrate: \", f\"{Fin:.4}\",  \" [mol/h]\")\n",
    "print(\"Retentate flowrate: \", f\"{Fr:.4}\", \" [mol/h]\\n\")"
   ]
  },
  {
   "cell_type": "markdown",
   "metadata": {},
   "source": [
    "## Contributions\n",
    "\n",
    "- Divyansh Vashishtha, 19 Feb 2024"
   ]
  },
  {
   "cell_type": "code",
   "execution_count": null,
   "metadata": {},
   "outputs": [],
   "source": []
  }
 ],
 "metadata": {
  "kernelspec": {
   "display_name": "Python 3 (ipykernel)",
   "language": "python",
   "name": "python3"
  },
  "language_info": {
   "codemirror_mode": {
    "name": "ipython",
    "version": 3
   },
   "file_extension": ".py",
   "mimetype": "text/x-python",
   "name": "python",
   "nbconvert_exporter": "python",
   "pygments_lexer": "ipython3",
   "version": "3.11.10"
  }
 },
 "nbformat": 4,
 "nbformat_minor": 4
}