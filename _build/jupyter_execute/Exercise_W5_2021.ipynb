{
 "cells": [
  {
   "cell_type": "markdown",
   "metadata": {},
   "source": [
    "# Week 5 - Exercise"
   ]
  },
  {
   "cell_type": "markdown",
   "metadata": {},
   "source": [
    "## Problem Statement\n",
    "\n",
    "A protein mixture has been separated through an ion-exchange chromatography process. The residence time of the column in non-adsorbing conditons is $t_0=1$ min.\n",
    "The chromatogram resulting from the separation is reported in the following: \n",
    "\n",
    "<img src=\"./chromatogram.png\" alt=\"Drawing\" style=\"width: 600px;\">\n",
    "\n",
    "### Determine:\n",
    "- How many components in the mixture can you identify from the chromatogram?\n",
    "- What is the selectivity of this column for each couple of components? \n",
    "- Assuming a linear adsorption isotherm holds in all cases, what conclusions can you draw about adsorption thermodynamics of each component in the column?\n",
    "- What is the number of theoretical plates associated to the elution of each component you have identified? If the coulmn is 10 cm long, what is the height equivalent of a theoretical plate for each component of the mixture? \n",
    "- Compute the resolution relative to each couple of components in the chromatogram. Does it depend only on the adsorption thermodynamics?\n",
    "- Comment on the separation performances of the column. Does it allow for a sharp resolution of all components?\n"
   ]
  },
  {
   "cell_type": "markdown",
   "metadata": {},
   "source": [
    "### Solution\n",
    "\n",
    "1. The chromatogram clearly indicates three components, let us indicate them with A, B, and C. \n",
    "The retention times for these components are: \n",
    "\n",
    "- $t_{r,A}=7$ \n",
    "- $t_{r,B}=10$\n",
    "- $t_{r,C}=15$\n",
    "\n",
    "2. The selectivity can be computed for every pair of components as: \n",
    "\n",
    "$$\n",
    "S_{i,j}=\\frac{t_{r,i}-t_0}{t_{r,j}-t_0}\n",
    "$$"
   ]
  },
  {
   "cell_type": "code",
   "execution_count": 1,
   "metadata": {},
   "outputs": [
    {
     "name": "stdout",
     "output_type": "stream",
     "text": [
      "Selectivity i,j\n",
      " [[1.         0.66666667 0.42857143]\n",
      " [1.5        1.         0.64285714]\n",
      " [2.33333333 1.55555556 1.        ]]\n"
     ]
    }
   ],
   "source": [
    "import numpy as np\n",
    "\n",
    "tr=np.array([7,10,15]); \n",
    "t0=1\n",
    "SEL=np.zeros((np.size(tr),np.size(tr)));\n",
    "\n",
    "for i in range(0,np.size(tr)):\n",
    "    for j in range(0,np.size(tr)):\n",
    "        SEL[i,j]=(tr[i]-t0)/(tr[j]-t0)\n",
    "\n",
    "print('Selectivity i,j\\n',SEL)"
   ]
  },
  {
   "cell_type": "markdown",
   "metadata": {},
   "source": [
    "3. Since $S_{i,j}=H_i/H_j$ we can determine the relative affinity of components A, B and C for the startionary phase. Component C shows the highest affinity for the stationary phase, followed by B and then C. \n",
    "\n",
    "4/5. The number of theoretical plates associated to the elution of components A, B, and C can be obtained applying the relationship $N=16*(tr/tw)^2$. The resolution for every couple of components is computed as: $R_{i,j}=\\frac{t_{r,i}-t_{r,j}}{\\frac{1}{2}(t_{w,i}+t_{w,j})}$"
   ]
  },
  {
   "cell_type": "code",
   "execution_count": 2,
   "metadata": {},
   "outputs": [
    {
     "name": "stdout",
     "output_type": "stream",
     "text": [
      "\n",
      "Height of a theoretical plates  [0.0127551 0.025     0.00625  ]  [-]\n",
      "Number of theoretical plates  [0.0127551 0.025     0.00625  ]  cm\n",
      "Resolution i,j\n",
      " [[0.         0.5        1.6       ]\n",
      " [0.5        0.         0.71428571]\n",
      " [1.6        0.71428571 0.        ]]\n"
     ]
    }
   ],
   "source": [
    "import numpy as np\n",
    "\n",
    "tr=np.array([7,10,15]); \n",
    "tw=np.array([1,2,1.5]); \n",
    "L=10 #cm\n",
    "\n",
    "N=(16*(tr/tw)**2)\n",
    "\n",
    "H=L/N\n",
    "\n",
    "R=np.zeros((np.size(tr),np.size(tr)));\n",
    "\n",
    "for i in range(0,np.size(tr)):\n",
    "    for j in range(0,np.size(tr)):\n",
    "        R[i,j]=abs((tr[i]-tr[j])/(2*(tw[i]+tw[j])))\n",
    "\n",
    "\n",
    "print('\\nHeight of a theoretical plates ',H,' [-]')\n",
    "print('Number of theoretical plates ',H,' cm')\n",
    "print('Resolution i,j\\n',R)"
   ]
  }
 ],
 "metadata": {
  "kernelspec": {
   "display_name": "Python 3 (ipykernel)",
   "language": "python",
   "name": "python3"
  },
  "language_info": {
   "codemirror_mode": {
    "name": "ipython",
    "version": 3
   },
   "file_extension": ".py",
   "mimetype": "text/x-python",
   "name": "python",
   "nbconvert_exporter": "python",
   "pygments_lexer": "ipython3",
   "version": "3.11.7"
  }
 },
 "nbformat": 4,
 "nbformat_minor": 4
}