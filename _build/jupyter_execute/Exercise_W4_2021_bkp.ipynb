{
 "cells": [
  {
   "cell_type": "markdown",
   "metadata": {},
   "source": [
    "# Week 4 - Exercise"
   ]
  },
  {
   "cell_type": "markdown",
   "metadata": {},
   "source": [
    "## Problem Statement"
   ]
  },
  {
   "cell_type": "markdown",
   "metadata": {},
   "source": [
    "The downstream processing of an aqueous stream containing therapeutic proteins produced in a bioreactor is carried out through an ultrafiltration membrane process. \n",
    "The volumetric flow to be processed is 200 $\\mathrm{m^3\\,day^{-1}}$, with a suspended protein concentration of 0.5 $\\mathrm{kg\\,m^{-3}}$. \n",
    "In order to be used in subsequent formulation stages the protein stream needs to be concentrated to 20 $\\mathrm{kg\\,m^{-3}}$. \n",
    "\n",
    "Tubular membrane modules with an exchange surface of 5 $\\mathrm{m^2}$ are used to carry out the ultrafiltration process. \n",
    "\n",
    "Due to fouling, the water flow through these membranes decreases when protein concentration (C) increases following the empirical law: \n",
    "\n",
    "$$\n",
    "J(C)=3.8\\times10^{-2}\\ln\\left(\\frac{145}{C}\\right) \\mathrm{[m\\,h^{-1}]}\n",
    "$$\n",
    "\n",
    "## Requests \n",
    "\n",
    "- Based on steady state calculations compute the number of membrane modules necessary for the operation of this process in a single-stage feed-and-bleed configuration.\n",
    "- Consider now a cascade of two stages. Compute the optimal number of membrane modules and their arrangement in stages in order to achieve the specifics required. Compute all the concentrations and volumetric flows in your process configuration of choice.  Define clearly your chosen criterion for optimality.\n"
   ]
  }
 ],
 "metadata": {
  "kernelspec": {
   "display_name": "Python 3",
   "language": "python",
   "name": "python3"
  },
  "language_info": {
   "codemirror_mode": {
    "name": "ipython",
    "version": 3
   },
   "file_extension": ".py",
   "mimetype": "text/x-python",
   "name": "python",
   "nbconvert_exporter": "python",
   "pygments_lexer": "ipython3",
   "version": "3.8.5"
  }
 },
 "nbformat": 4,
 "nbformat_minor": 4
}