{
 "cells": [
  {
   "cell_type": "markdown",
   "metadata": {},
   "source": [
    "# Week 4 - Exercise"
   ]
  },
  {
   "cell_type": "markdown",
   "metadata": {},
   "source": [
    "## Problem Statement"
   ]
  },
  {
   "cell_type": "markdown",
   "metadata": {},
   "source": [
    "The downstream processing of an aqueous stream containing therapeutic proteins produced in a bioreactor is carried out through an ultrafiltration membrane process. \n",
    "The volumetric flow to be processed is 200 $\\mathrm{m^3\\,day^{-1}}$, with a suspended protein concentration of 0.5 $\\mathrm{kg\\,m^{-3}}$. \n",
    "In order to be used in subsequent formulation stages the protein stream needs to be concentrated to 20 $\\mathrm{kg\\,m^{-3}}$. \n",
    "\n",
    "Tubular membrane modules with an exchange surface of 5 $\\mathrm{m^2}$ are used to carry out the ultrafiltration process. \n",
    "\n",
    "Due to fouling, the water flow through these membranes decreases when protein concentration (C) increases following the empirical law: \n",
    "\n",
    "$$\n",
    "J(C)=3.8\\times10^{-2}\\ln\\left(\\frac{145}{C}\\right) \\mathrm{[m\\,h^{-1}]}\n",
    "$$\n",
    "\n",
    "## Requests \n",
    "\n",
    "- Based on steady state calculations compute the number of membrane modules necessary for the operation of this process in a single-stage feed-and-bleed configuration.\n",
    "- Consider now a cascade of two stages. Compute the optimal number of membrane modules and their arrangement in stages in order to achieve the specifics required. Compute all the concentrations and volumetric flows in your process configuration of choice.  Define clearly your chosen criterion for optimality.\n",
    "\n"
   ]
  },
  {
   "cell_type": "markdown",
   "metadata": {},
   "source": [
    "## Solution:\n",
    "\n",
    "_[contributed by Max Shone, February 2024]_"
   ]
  },
  {
   "cell_type": "markdown",
   "metadata": {},
   "source": [
    "## Request 1\n",
    "To compute the mumber of membrane modules necessary for the operation of this process in a single-stage feed-and-bleed configuration, a mass balance and volume balance can be set up:\n",
    "#### Mass Balance:\n",
    "$$\n",
    "Q_{in}\\times C_{in}=Q_{out}\\times C_{out}\n",
    "$$\n",
    "#### Volume Balance:\n",
    "$$\n",
    "Q_{in}=Q_{out}+J(C)A\n",
    "$$\n",
    "\n",
    "\n"
   ]
  },
  {
   "cell_type": "markdown",
   "metadata": {},
   "source": [
    "To solve this problem, the following steps are taken:\n",
    " - Solve mass balance for Qin.\n",
    " - Solve empirical formula for flux through membrane.\n",
    " - Rearrange volume balance for area and solve, rounding the final answer up."
   ]
  },
  {
   "cell_type": "code",
   "execution_count": 1,
   "metadata": {},
   "outputs": [
    {
     "name": "stdout",
     "output_type": "stream",
     "text": [
      "\n",
      "Flow rate out:  0.2083  [m^3/h]\n",
      "\n",
      "Flux:  0.07528  [m/h]\n",
      "\n",
      "Membrane Area:  107.9  [m^2]\n",
      "\n",
      "Number of stages:  22.0  [-]\n"
     ]
    }
   ],
   "source": [
    "import numpy as np\n",
    "Qin = 200/24 #m^3/hr\n",
    "Cin = 0.5 #kg/m^3\n",
    "Cout = 20 #kg/m^3\n",
    "\n",
    "#equations\n",
    "\n",
    "#mass balance\n",
    "Qout = Qin*Cin/Cout\n",
    "\n",
    "#Finding flux going through membrane\n",
    "Jc = (3.8*10**(-2)*np.log(145/Cout))\n",
    "\n",
    "#Volume balance rearranged for A\n",
    "A = (Qin-Qout)/Jc\n",
    "n=np.ceil(A/5)\n",
    "print(\"\\nFlow rate out: \", f\"{Qout:.4}\", \" [m^3/h]\")\n",
    "print(\"\\nFlux: \", f\"{Jc:.4}\", \" [m/h]\")\n",
    "print(\"\\nMembrane Area: \", f\"{A:.4}\", \" [m^2]\")\n",
    "print(\"\\nNumber of stages: \", f\"{n}\", \" [-]\")"
   ]
  },
  {
   "cell_type": "markdown",
   "metadata": {},
   "source": [
    "## Request 2\n",
    "To find the optimal membrane configuration for a cascade of two stages, we would like to find the least number of total membranes that will result in an outlet concentration of 20 $\\mathrm{kg\\,m^{-3}}$. \n",
    "\n",
    "\n",
    "This can be done through completing a mass and volume balance over the first membrane, assuming the outlet concentration (C1) value, followed by completing the same calculations over the second membrane, with an outlet concentration of 20 $\\mathrm{kg\\,m^{-3}}$. The following graph shows all possible values of C1 between 0.5 and 20 $\\mathrm{kg\\,m^{-3}}$."
   ]
  },
  {
   "cell_type": "code",
   "execution_count": 2,
   "metadata": {},
   "outputs": [
    {
     "data": {
      "image/png": "[encoded data removed]",
      "text/plain": [
       "<Figure size 432x288 with 1 Axes>"
      ]
     },
     "metadata": {
      "filenames": {
       "image/png": "/Users/matteo/Projects/website/PSSP_notebook/_build/jupyter_execute/Exercise_W4_2024_updated_8_0.png"
      },
      "needs_background": "light"
     },
     "output_type": "display_data"
    },
    {
     "name": "stdout",
     "output_type": "stream",
     "text": [
      "\n",
      "Stage 1 outlet concentration:  2.015  [kg/m^3]\n",
      "\n",
      "Minimum number of membranes for stage 1:  8.0  [-]\n",
      "\n",
      "Minimum number of membranes for stage 2:  5.0  [-]\n",
      "\n",
      "Minimum number of total membranes:  13.0  [-]\n"
     ]
    }
   ],
   "source": [
    "import numpy as np\n",
    "import matplotlib.pyplot as plt\n",
    "\n",
    "#Question 2 Open exercsie\n",
    "#Initialising variables\n",
    "Q0 = 200/24; #[m^3/day] * [day/hour]\n",
    "C0 = 0.5; #kg/m^3\n",
    "C1 = np.linspace(0.5, 20, num=400) #kg/m^3\n",
    "C2 = 20; #kg/m^3\n",
    "JC = 3.8*10**(-2)*np.log(145./C1)\n",
    "\n",
    "#Membrane Surface Area\n",
    "MSA = 5 \n",
    "\n",
    "#Calculations over first membrane\n",
    "Q1 = Q0*C0/C1\n",
    "A1 = (Q0-Q1)/JC\n",
    "n1 = np.ceil(A1/MSA)\n",
    "\n",
    "#Calculations over second membrane\n",
    "Q2 = Q1*C1/C2\n",
    "A2 = (Q1-Q2)/JC[-1]\n",
    "n2 = np.ceil(A2/MSA)\n",
    "\n",
    "#Total membranes\n",
    "n = n1+n2\n",
    "\n",
    "# Plotting graphs\n",
    "plt.plot(C1, n, label=\"Total membranes\")\n",
    "plt.plot(C1, n1, label=\"Membrane 1\")\n",
    "plt.plot(C1, n2, label=\"Membrane 2\")\n",
    "\n",
    "# Adding legend, labels, and title\n",
    "plt.legend()\n",
    "plt.xlabel(\"C1\")\n",
    "plt.ylabel(\"Number of Membranes\")\n",
    "plt.title(\"Number of Membranes vs C1\")\n",
    "\n",
    "\n",
    "# Show plot\n",
    "plt.show()\n",
    "\n",
    "#Finding index of minimum number of membranes\n",
    "minN_index = np.argmin(n)\n",
    "\n",
    "#Finding values at minimum number of membranes\n",
    "minN = n[minN_index]\n",
    "minN1 = n1[minN_index]\n",
    "minN2 = n2[minN_index]\n",
    "minC1 = C1[minN_index]\n",
    "\n",
    "print(\"\\nStage 1 outlet concentration: \", f\"{minC1:.4}\", \" [kg/m^3]\")\n",
    "print(\"\\nMinimum number of membranes for stage 1: \", f\"{minN1}\", \" [-]\")\n",
    "print(\"\\nMinimum number of membranes for stage 2: \", f\"{minN2}\", \" [-]\")\n",
    "print(\"\\nMinimum number of total membranes: \", f\"{minN}\", \" [-]\")"
   ]
  },
  {
   "cell_type": "markdown",
   "metadata": {},
   "source": [
    "This can also be solved with GAMS:\n",
    "``` python\n",
    "#Note: This code cannot be run in Jupyter notebook, copy paste into GAMS.\n",
    "\n",
    "Parameters\n",
    "Q0,C0,C2;\n",
    "Q0=200/24;\n",
    "C0=0.5;\n",
    "C2=20;\n",
    "\n",
    "Variables\n",
    "n, Q1, C1, Q2, A1, A2\n",
    ";\n",
    "\n",
    "Equations\n",
    "mb1, mb2, area, vb1, vb2\n",
    ";\n",
    "\n",
    "mb1.. Q0=e=(3.8*10**(-2))*log(145/C1)*A1+Q1;\n",
    "vb1.. Q1=e=Q0*C0/C1;\n",
    "mb2.. Q1=e=(3.8*10**(-2))*log(145/20)*A2+Q2;\n",
    "vb2.. Q2=e=Q1*C1/C2;\n",
    "area.. n=e=A1/5+A2/5;\n",
    "\n",
    "Model process /all/;\n",
    "c1.l=5;\n",
    "Solve process using NLP minimising n;\n",
    "```"
   ]
  },
  {
   "cell_type": "markdown",
   "metadata": {},
   "source": [
    "## Refinement of the GAMS Solution:\n",
    "_[Contributed by Divyansh Vashishtha, March 2024]_\n",
    "\n",
    "\n",
    "In this version only an integer number of membrane modules can be adopted in every stage. In this version, only an integer number of membrane modules can be adopted in every stage. \n",
    "\n"
   ]
  },
  {
   "cell_type": "markdown",
   "metadata": {},
   "source": [
    "```python\n",
    "Parameters\n",
    "Q0 intial volumetric flowrate coming into stage 1 [m^3 h^-1],\n",
    "C0 initial protein concentration coming into stage 1  [kg m^-3 ],C2 final protein concentration leaving stage 2 [kg m^-3];\n",
    "*Initialisation of Parameters from the Process Description: Q0, C0, C2.\n",
    "Q0=200/24;\n",
    "C0=0.5;\n",
    "C2=20;\n",
    "\n",
    "Variables\n",
    "n total number of membrane modules across the two stages [decimal],\n",
    "Q1 volumetric flowrate leaving the first stage [m^3 h^-1],\n",
    "C1 concentration of protein leaving the first stage [kg m^-3],\n",
    "Q2 volumetric flowrate leaving the second stage [m^3 h^-1],\n",
    "A1 Total area of membranes required in stage 1 [m^2],\n",
    "A2 Total area of membranes required in stage 2 [m^2],\n",
    "n1 number of membrane modules required for stage 1 [decimal],\n",
    "n1_rounded minimum number of membrane modules required for stage 1 [integer],\n",
    "n2 number of membrane modules required for stage 2 [decimal],\n",
    "n2_rounded minimum number of membrane modules required for stage 2 [integer],\n",
    "nx rounded up value of the total membranes required [integer].\n",
    ";\n",
    "\n",
    "Equations\n",
    "mb1 equation for the mass balane of the solute over stage 1,\n",
    "mb2 equation for the mass balance of the solute over stage 2,\n",
    "area1 equation for the area of membrane required over the first stage,\n",
    "vb1 equation for the volume balance over stage 1,\n",
    "vb2 equation for the volume balance over stage 2,\n",
    "area2 equation for the area of membrane required over the second stage,\n",
    "roundn1 equation that rounds up the decimal value of the number of membrane modules obtained in the first stage ,\n",
    "roundn2 equation that rounds up the decimal value of the number of membrane modules obtained in the second stage,\n",
    "total_n equation that determines the total number of membrane modules obtained over the two stages [returns a decimal],\n",
    "roundN equation that displays the rounded number of total membrane modules over the two stages;\n",
    "\n",
    "vb1.. Q0=e=(3.8*10**(-2))*log(145/C1)*A1+Q1;\n",
    "mb1.. Q1=e=Q0*C0/C1;\n",
    "vb2.. Q1=e=(3.8*10**(-2))*log(145/C2)*A2+Q2;\n",
    "mb2.. Q2=e=Q1*C1/C2;\n",
    "area1.. n1 =e= A1/5;\n",
    "area2.. n2 =e= A2/5;\n",
    "roundn1.. n1_rounded =e= ceil(n1);\n",
    "roundn2.. n2_rounded =e= ceil(n2);\n",
    "total_n.. n =e= n1 + n2;\n",
    "roundN.. nx =e= ceil(n);\n",
    "\n",
    "Model process /all/;\n",
    "c1.l=5;\n",
    "Solve process using DNLP minimising n;\n",
    "display n.l, n1_rounded.l, n2_rounded.l, nx.l;\n",
    "Parameters\n",
    "Q0 intial volumetric flowrate coming into stage 1 [m^3 h^-1],\n",
    "C0 initial protein concentration coming into stage 1  [kg m^-3 ],C2 final protein concentration leaving stage 2 [kg m^-3];\n",
    "*Initialisation of Parameters from the Process Description: Q0, C0, C2.\n",
    "Q0=200/24;\n",
    "C0=0.5;\n",
    "C2=20;\n",
    "\n",
    "Variables\n",
    "n total number of membrane modules across the two stages [decimal],\n",
    "Q1 volumetric flowrate leaving the first stage [m^3 h^-1],\n",
    "C1 concentration of protein leaving the first stage [kg m^-3],\n",
    "Q2 volumetric flowrate leaving the second stage [m^3 h^-1],\n",
    "A1 Total area of membranes required in stage 1 [m^2],\n",
    "A2 Total area of membranes required in stage 2 [m^2],\n",
    "n1 number of membrane modules required for stage 1 [decimal],\n",
    "n1_rounded minimum number of membrane modules required for stage 1 [integer],\n",
    "n2 number of membrane modules required for stage 2 [decimal],\n",
    "n2_rounded minimum number of membrane modules required for stage 2 [integer],\n",
    "nx rounded up value of the total membranes required [integer].\n",
    ";\n",
    "\n",
    "Equations\n",
    "mb1 equation for the mass balane of the solute over stage 1,\n",
    "mb2 equation for the mass balance of the solute over stage 2,\n",
    "area1 equation for the area of membrane required over the first stage,\n",
    "vb1 equation for the volume balance over stage 1,\n",
    "vb2 equation for the volume balance over stage 2,\n",
    "area2 equation for the area of membrane required over the second stage,\n",
    "roundn1 equation that rounds up the decimal value of the number of membrane modules obtained in the first stage ,\n",
    "roundn2 equation that rounds up the decimal value of the number of membrane modules obtained in the second stage,\n",
    "total_n equation that determines the total number of membrane modules obtained over the two stages [returns a decimal],\n",
    "roundN equation that displays the rounded number of total membrane modules over the two stages;\n",
    "\n",
    "vb1.. Q0=e=(3.8*10**(-2))*log(145/C1)*A1+Q1;\n",
    "mb1.. Q1=e=Q0*C0/C1;\n",
    "vb2.. Q1=e=(3.8*10**(-2))*log(145/C2)*A2+Q2;\n",
    "mb2.. Q2=e=Q1*C1/C2;\n",
    "area1.. n1 =e= A1/5;\n",
    "area2.. n2 =e= A2/5;\n",
    "roundn1.. n1_rounded =e= ceil(n1);\n",
    "roundn2.. n2_rounded =e= ceil(n2);\n",
    "total_n.. n =e= n1 + n2;\n",
    "roundN.. nx =e= ceil(n);\n",
    "\n",
    "Model process /all/;\n",
    "c1.l=5;\n",
    "Solve process using DNLP minimising n;\n",
    "display n.l, n1_rounded.l, n2_rounded.l, nx.l;\n",
    "\n",
    "```"
   ]
  },
  {
   "cell_type": "code",
   "execution_count": null,
   "metadata": {},
   "outputs": [],
   "source": []
  }
 ],
 "metadata": {
  "kernelspec": {
   "display_name": "Python 3",
   "language": "python",
   "name": "python3"
  },
  "language_info": {
   "codemirror_mode": {
    "name": "ipython",
    "version": 3
   },
   "file_extension": ".py",
   "mimetype": "text/x-python",
   "name": "python",
   "nbconvert_exporter": "python",
   "pygments_lexer": "ipython3",
   "version": "3.10.4"
  }
 },
 "nbformat": 4,
 "nbformat_minor": 4
}