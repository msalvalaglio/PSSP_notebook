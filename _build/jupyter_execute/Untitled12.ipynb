{
 "cells": [
  {
   "cell_type": "markdown",
   "id": "07bb0882-8e59-470c-be02-f44f5eee6678",
   "metadata": {},
   "source": [
    "```mermaid\n",
    "mindmap\n",
    "root((Crystallization))\n",
    "    Fundamentals\n",
    "      Thermodynamics\n",
    "          Solubility Definition\n",
    "          Phase diagram\n",
    "          Solubility Curve\n",
    "      Kinetics\n",
    "          Nucleation\n",
    "            Heterogeneous Nucleation\n",
    "          Growth\n",
    "            Homogeneous Nucleations\n",
    "      Polymorphism\n",
    "          Enantiotropic \n",
    "          Monotropic Polymorphism\n",
    "    Process Configurations\n",
    "      Batch\n",
    "        Isothermal \n",
    "        Cooling Crystallization\n",
    "        Evaporative Crystallization\n",
    "      Continuous\n",
    "        Mixed Solvent Mixed Product Removal Crystallizer\n",
    "    Particle Size Distributions\n",
    "```"
   ]
  },
  {
   "cell_type": "code",
   "execution_count": null,
   "id": "43562775-47c0-4bcd-8322-1859ca39e603",
   "metadata": {},
   "outputs": [],
   "source": []
  }
 ],
 "metadata": {
  "kernelspec": {
   "display_name": "Python 3",
   "language": "python",
   "name": "python3"
  },
  "language_info": {
   "codemirror_mode": {
    "name": "ipython",
    "version": 3
   },
   "file_extension": ".py",
   "mimetype": "text/x-python",
   "name": "python",
   "nbconvert_exporter": "python",
   "pygments_lexer": "ipython3",
   "version": "3.7.7"
  }
 },
 "nbformat": 4,
 "nbformat_minor": 5
}