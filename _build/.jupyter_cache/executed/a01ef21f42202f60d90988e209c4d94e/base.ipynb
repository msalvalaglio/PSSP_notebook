{
 "cells": [
  {
   "cell_type": "code",
   "execution_count": 1,
   "metadata": {},
   "outputs": [
    {
     "name": "stdout",
     "output_type": "stream",
     "text": [
      "Selectivity i,j\n",
      " [[1.         0.66666667 0.42857143]\n",
      " [1.5        1.         0.64285714]\n",
      " [2.33333333 1.55555556 1.        ]]\n"
     ]
    }
   ],
   "source": [
    "import numpy as np\n",
    "\n",
    "tr=np.array([7,10,15]); \n",
    "t0=1\n",
    "SEL=np.zeros((np.size(tr),np.size(tr)));\n",
    "\n",
    "for i in range(0,np.size(tr)):\n",
    "    for j in range(0,np.size(tr)):\n",
    "        SEL[i,j]=(tr[i]-t0)/(tr[j]-t0)\n",
    "\n",
    "print('Selectivity i,j\\n',SEL)"
   ]
  },
  {
   "cell_type": "code",
   "execution_count": 2,
   "metadata": {},
   "outputs": [
    {
     "name": "stdout",
     "output_type": "stream",
     "text": [
      "\n",
      "Height of a theoretical plates  [0.0127551 0.025     0.00625  ]  [-]\n",
      "Number of theoretical plates  [0.0127551 0.025     0.00625  ]  cm\n",
      "Resolution i,j\n",
      " [[0.         0.5        1.6       ]\n",
      " [0.5        0.         0.71428571]\n",
      " [1.6        0.71428571 0.        ]]\n"
     ]
    }
   ],
   "source": [
    "import numpy as np\n",
    "\n",
    "tr=np.array([7,10,15]); \n",
    "tw=np.array([1,2,1.5]); \n",
    "L=10 #cm\n",
    "\n",
    "N=(16*(tr/tw)**2)\n",
    "\n",
    "H=L/N\n",
    "\n",
    "R=np.zeros((np.size(tr),np.size(tr)));\n",
    "\n",
    "for i in range(0,np.size(tr)):\n",
    "    for j in range(0,np.size(tr)):\n",
    "        R[i,j]=abs((tr[i]-tr[j])/(2*(tw[i]+tw[j])))\n",
    "\n",
    "\n",
    "print('\\nHeight of a theoretical plates ',H,' [-]')\n",
    "print('Number of theoretical plates ',H,' cm')\n",
    "print('Resolution i,j\\n',R)"
   ]
  }
 ],
 "metadata": {
  "kernelspec": {
   "display_name": "Python 3 (ipykernel)",
   "language": "python",
   "name": "python3"
  },
  "language_info": {
   "codemirror_mode": {
    "name": "ipython",
    "version": 3
   },
   "file_extension": ".py",
   "mimetype": "text/x-python",
   "name": "python",
   "nbconvert_exporter": "python",
   "pygments_lexer": "ipython3",
   "version": "3.11.7"
  }
 },
 "nbformat": 4,
 "nbformat_minor": 4
}