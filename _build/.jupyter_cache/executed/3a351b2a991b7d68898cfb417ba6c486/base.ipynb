{
 "cells": [
  {
   "cell_type": "code",
   "execution_count": 1,
   "metadata": {
    "tags": [
     "hide_input"
    ]
   },
   "outputs": [
    {
     "name": "stdout",
     "output_type": "stream",
     "text": [
      "\n",
      "Retentate composition:  0.1826  [-]\n",
      "Cut:  0.08792 [-]\n",
      "Permeate flowrate:  0.06784  [mol/h]\n",
      "Feed flowrate:  0.7715  [mol/h]\n",
      "Retentate flowrate:  0.7037  [mol/h]\n",
      "\n"
     ]
    }
   ],
   "source": [
    "## Solution trace\n",
    "# Variables\n",
    "A=15 * 1E4 # [m^2 * cm^2 / m^2]\n",
    "P_r=5.5 * 101325 # [atm] * [Pa / atm]\n",
    "P_p=1.01 * 101325 # [atm] * [Pa / atm] \n",
    "l=2.0*1E-4 # cm\n",
    "rho_STP=1/22.4E3 # / [mol/cm3(stp)]\n",
    "PCO2=0.034E-13 * 3600 # [cm3(STP) * cm/cm2/s/Pa] * [s/h]\n",
    "PN2=0.089E-14 * 3600#  [cm3(STP) * cm/cm2/s/Pa] * [s/h]\n",
    "# Permeate Composition\n",
    "y=0.38\n",
    "# Feed Composition\n",
    "z = 0.20\n",
    "\n",
    "# 1. compute the retentate composition: \n",
    "alpha=PCO2/PN2\n",
    "x= y * (1 + P_p/P_r * (1-y) * (alpha - 1)) / (alpha - (alpha - 1) * y)\n",
    "\n",
    "# 2. compute the cut: \n",
    "theta=(z-x)/(y-x)\n",
    "\n",
    "# 3. compute the permeate flowrate:\n",
    "Fp=A*PCO2*rho_STP / y / l * (x*P_r-y*P_p)\n",
    "\n",
    "# 4. compute the feed flowrate: \n",
    "Fin=Fp/theta\n",
    "\n",
    "# 5 compute the retentate flowrate: \n",
    "Fr=Fin-Fp\n",
    "\n",
    "print(\"\\nRetentate composition: \", f\"{x:.4}\", \" [-]\")\n",
    "print(\"Cut: \", f\"{theta:.4}\", \"[-]\")\n",
    "print(\"Permeate flowrate: \", f\"{Fp:.4}\", \" [mol/h]\")\n",
    "print(\"Feed flowrate: \", f\"{Fin:.4}\",  \" [mol/h]\")\n",
    "print(\"Retentate flowrate: \", f\"{Fr:.4}\", \" [mol/h]\\n\")"
   ]
  },
  {
   "cell_type": "code",
   "execution_count": 2,
   "metadata": {
    "tags": [
     "hide_input"
    ]
   },
   "outputs": [
    {
     "name": "stdout",
     "output_type": "stream",
     "text": [
      "\n",
      "Retentate composition:  0.1826  [-]\n",
      "Cut:  0.08792 [-]\n",
      "Permeate flowrate:  0.06784  [mol/h]\n",
      "Feed flowrate:  0.7715  [mol/h]\n",
      "Retentate flowrate:  0.7037  [mol/h]\n",
      "\n"
     ]
    }
   ],
   "source": [
    "## Solution trace\n",
    "import scipy as sp\n",
    "##from sp.optimize import fsolve\n",
    "\n",
    "# Variables\n",
    "A=15 * 1E4 # [m^2 * cm^2 / m^2]\n",
    "P_r=5.5 * 101325 # [atm] * [Pa / atm]\n",
    "P_p=1.01 * 101325 # [atm] * [Pa / atm] \n",
    "l=2.0*1E-4 # cm\n",
    "rho_STP=1/22.4E3 # / [mol/cm3(stp)]\n",
    "PCO2=0.034E-13 * 3600 # [cm3(STP) * cm/cm2/s/Pa] * [s/h]\n",
    "PN2=0.089E-14 * 3600#  [cm3(STP) * cm/cm2/s/Pa] * [s/h]\n",
    "# Permeate Composition\n",
    "y=0.38\n",
    "# Feed Composition\n",
    "z = 0.20\n",
    "\n",
    "alpha=PCO2/PN2\n",
    "\n",
    "def equations(vars):\n",
    "    x, Fin, Fp, Fr, theta = vars\n",
    "    eq1 = ((theta - 1) / theta) * x + (z / theta) - y\n",
    "    eq2 = x - (y * (1 + P_p/P_r * (1-y) * (alpha - 1)) / (alpha - (alpha - 1) * y))\n",
    "    eq3 = Fin - Fr - Fp\n",
    "    eq4 = Fp-A*PCO2*rho_STP / y / l * (x*P_r-y*P_p)\n",
    "    eq5 = Fin - (Fp/theta)\n",
    "    return [eq1, eq2, eq3, eq4, eq5]\n",
    "\n",
    "x, Fin, Fp, Fr, theta =  sp.optimize.fsolve(equations, (0.1, 0.1, 0.1, 0.1, 0.1))\n",
    "\n",
    "print(\"\\nRetentate composition: \", f\"{x:.4}\", \" [-]\")\n",
    "print(\"Cut: \", f\"{theta:.4}\", \"[-]\")\n",
    "print(\"Permeate flowrate: \", f\"{Fp:.4}\", \" [mol/h]\")\n",
    "print(\"Feed flowrate: \", f\"{Fin:.4}\",  \" [mol/h]\")\n",
    "print(\"Retentate flowrate: \", f\"{Fr:.4}\", \" [mol/h]\\n\")"
   ]
  },
  {
   "cell_type": "code",
   "execution_count": null,
   "metadata": {},
   "outputs": [],
   "source": []
  }
 ],
 "metadata": {
  "kernelspec": {
   "display_name": "Python 3 (ipykernel)",
   "language": "python",
   "name": "python3"
  },
  "language_info": {
   "codemirror_mode": {
    "name": "ipython",
    "version": 3
   },
   "file_extension": ".py",
   "mimetype": "text/x-python",
   "name": "python",
   "nbconvert_exporter": "python",
   "pygments_lexer": "ipython3",
   "version": "3.11.10"
  }
 },
 "nbformat": 4,
 "nbformat_minor": 4
}