{
 "cells": [
  {
   "cell_type": "code",
   "execution_count": 1,
   "metadata": {},
   "outputs": [
    {
     "name": "stdout",
     "output_type": "stream",
     "text": [
      "\n",
      "Permeate concentration:  0.00513  [mol/l]\n",
      "Feed concentration:  0.7123  [mol/l]\n",
      "Retentate concentration:  1.287  [mol/l]\n",
      "\n",
      "Osmotic pressure:  45.77  [bar]\n",
      "\n",
      "Membrane area:  18.79  [m^2]\n",
      "Salt rejection:  0.996 [-]\n",
      "Salt passage:  0.004 [-]\n"
     ]
    }
   ],
   "source": [
    "import numpy as np\n",
    "import matplotlib.pyplot as plt \n",
    "from matplotlib.pyplot import cm\n",
    "\n",
    "#\n",
    "PM=1E-5; #[m/h/bar]\n",
    "MMNaCl=58.5; #[g/mol]\n",
    "\n",
    "#Feed Retentate Permeate\n",
    "wtp=np.array([4, 7, 0.03])/100; #mass fractions\n",
    "water_density=1E3; #[g/l]\n",
    "\n",
    "c=wtp*water_density/(MMNaCl*(1-wtp));  #[mol/l]\n",
    "\n",
    "C=1.12/14.5;\n",
    "T=298;\n",
    "pi_P=2*C*T*c[2];\n",
    "pi_R=2*C*T*np.mean(c[0:2]);\n",
    "Dpi=pi_R-pi_P; # [bar]\n",
    "\n",
    "DP=100-1; # [bar]\n",
    "Fpwat=10E-3; # [m3/h]\n",
    "\n",
    "A=Fpwat/PM/(DP-Dpi)\n",
    "\n",
    "SP=c[2]/c[1]\n",
    "SR=(1-SP)\n",
    "\n",
    "print(\"\\nPermeate concentration: \", f\"{c[2]:.4}\", \" [mol/l]\")\n",
    "print(\"Feed concentration: \", f\"{c[0]:.4}\", \" [mol/l]\")\n",
    "print(\"Retentate concentration: \", f\"{c[1]:.4}\", \" [mol/l]\")\n",
    "\n",
    "print(\"\\nOsmotic pressure: \", f\"{Dpi:.4}\", \" [bar]\")\n",
    "\n",
    "print(\"\\nMembrane area: \", f\"{A:.4}\", \" [m^2]\")\n",
    "print(\"Salt rejection: \", f\"{SR:.4}\", \"[-]\")\n",
    "print(\"Salt passage: \", f\"{SP:.2}\", \"[-]\")\n"
   ]
  },
  {
   "cell_type": "code",
   "execution_count": null,
   "metadata": {},
   "outputs": [],
   "source": []
  }
 ],
 "metadata": {
  "kernelspec": {
   "display_name": "Python 3 (ipykernel)",
   "language": "python",
   "name": "python3"
  },
  "language_info": {
   "codemirror_mode": {
    "name": "ipython",
    "version": 3
   },
   "file_extension": ".py",
   "mimetype": "text/x-python",
   "name": "python",
   "nbconvert_exporter": "python",
   "pygments_lexer": "ipython3",
   "version": "3.11.7"
  }
 },
 "nbformat": 4,
 "nbformat_minor": 4
}