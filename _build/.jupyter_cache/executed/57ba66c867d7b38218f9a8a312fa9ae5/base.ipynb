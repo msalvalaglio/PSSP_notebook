{
 "cells": [
  {
   "cell_type": "code",
   "execution_count": 1,
   "metadata": {},
   "outputs": [
    {
     "name": "stdout",
     "output_type": "stream",
     "text": [
      "\n",
      "Feed mass fraction  0.3683  [-]\n",
      "Liquid phase mass fraction  0.2631 [-]\n",
      "Crystal mass fraction  0.8525 [-]\n",
      "Crystals flowrate:  1.785e+03  [kg/h]\n",
      "Liquid phase flowrate:  8.215e+03  [kg/h]\n"
     ]
    }
   ],
   "source": [
    "## Solution trace\n",
    "# Variables\n",
    "wF=58.3 #g/100 g water \n",
    "wL=35.7 #g/100 g water \n",
    "MMBaCl2= 208.27 #g/mol\n",
    "MMBaCl22H2O=244.31 #g/mol\n",
    "F=1E4 #kg/h\n",
    "\n",
    "\n",
    "xF=wF/(wF+100);\n",
    "xL=wL/(wL+100);\n",
    "xS=MMBaCl2/MMBaCl22H2O;\n",
    "\n",
    "S=F*(xF-xL)/(xS-xL)\n",
    "\n",
    "L=F-S\n",
    "\n",
    "print(\"\\nFeed mass fraction \", f\"{xF:.4}\", \" [-]\")\n",
    "print(\"Liquid phase mass fraction \", f\"{xL:.4}\", \"[-]\")\n",
    "print(\"Crystal mass fraction \", f\"{xS:.4}\", \"[-]\")\n",
    "print(\"Crystals flowrate: \", f\"{S:.4}\", \" [kg/h]\")\n",
    "print(\"Liquid phase flowrate: \", f\"{L:.4}\",  \" [kg/h]\")"
   ]
  },
  {
   "cell_type": "code",
   "execution_count": 2,
   "metadata": {},
   "outputs": [
    {
     "name": "stdout",
     "output_type": "stream",
     "text": [
      "\n",
      "The volumetric flowrate  6.945 [m3/h]\n",
      "The residence time  1.037e+03 [s]\n",
      "The predominant crystal size is  1.244  [mm]\n"
     ]
    }
   ],
   "source": [
    "## Solution trace\n",
    "# Variables\n",
    "rho_C=3097 \n",
    "rho_L=1290\n",
    "V=2 #m3\n",
    "G=4E-7 #m/s\n",
    "\n",
    "Q=L/rho_L+S/rho_C #m3/h\n",
    "\n",
    "tau=V/Q*3600 #s\n",
    "\n",
    "LD=3*G*tau*1E3 #mm\n",
    "\n",
    "print(\"\\nThe volumetric flowrate \", f\"{Q:.4}\", \"[m3/h]\")\n",
    "print(\"The residence time \", f\"{tau:.4}\", \"[s]\")\n",
    "print(\"The predominant crystal size is \", f\"{LD:.4}\", \" [mm]\")"
   ]
  }
 ],
 "metadata": {
  "kernelspec": {
   "display_name": "Python 3 (ipykernel)",
   "language": "python",
   "name": "python3"
  },
  "language_info": {
   "codemirror_mode": {
    "name": "ipython",
    "version": 3
   },
   "file_extension": ".py",
   "mimetype": "text/x-python",
   "name": "python",
   "nbconvert_exporter": "python",
   "pygments_lexer": "ipython3",
   "version": "3.11.7"
  }
 },
 "nbformat": 4,
 "nbformat_minor": 4
}