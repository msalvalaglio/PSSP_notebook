{
 "cells": [
  {
   "cell_type": "code",
   "execution_count": 1,
   "id": "8c517bc3-6609-4df9-974e-5f582de1cbe2",
   "metadata": {},
   "outputs": [
    {
     "data": {
      "application/vnd.jupyter.widget-view+json": {
       "model_id": "da03ef61a556412ba782f747129fc53c",
       "version_major": 2,
       "version_minor": 0
      },
      "text/plain": [
       "interactive(children=(FloatSlider(value=0.5, description='$\\\\theta$ ', max=0.99, min=0.001, step=0.001), Float…"
      ]
     },
     "execution_count": 1,
     "metadata": {},
     "output_type": "execute_result"
    }
   ],
   "source": [
    "import numpy as np\n",
    "from scipy.optimize import fsolve\n",
    "import plotly.graph_objects as go\n",
    "from ipywidgets import interactive\n",
    "import ipywidgets as widgets\n",
    "\n",
    "def plot_function(theta, z, Pp_Pr, alpha):\n",
    "    def equations(vars):\n",
    "        x, y = vars\n",
    "        eq1 = ((theta - 1) / theta) * x + (z / theta) - y\n",
    "        eq2 = y * (1 + Pp_Pr * (1-y) * (alpha - 1)) / (alpha - (alpha - 1) * y) - x\n",
    "        return [eq1, eq2]\n",
    "\n",
    "    x_set, y_set = fsolve(equations, (0.15, 0.85))\n",
    "\n",
    "    N = 500  # Number of points for plotting\n",
    "\n",
    "    # Operating Line\n",
    "    x_op = np.linspace(0, 1, N)\n",
    "    y_op = ((theta - 1) / theta) * x_op + (z / theta)\n",
    "\n",
    "    # Rate Transfer Line\n",
    "    y_rt = np.linspace(0, 1, N)\n",
    "    x_rt = y_rt * (1 + Pp_Pr * (1-y_rt) * (alpha - 1)) / (alpha - (alpha - 1) * y_rt)\n",
    "\n",
    "    fig = go.Figure()\n",
    "\n",
    "    fig.add_trace(go.Scatter(x=x_op, y=y_op, mode='lines', name='Operating Line', line=dict(color='red')))\n",
    "    fig.add_trace(go.Scatter(x=x_rt, y=y_rt, mode='lines', name='Rate Transfer Line', line=dict(color='blue')))\n",
    "    fig.add_trace(go.Scatter(x=[x_set], y=[y_set], mode='markers', name='Operating Point', \n",
    "                             marker=dict(color='lime', size=14)))\n",
    "\n",
    "    fig.update_layout(\n",
    "        title=f'Operating and Rate Transfer Equations<br>θ={theta:.3f}, z={z:.2f}, Pp/Pr={Pp_Pr:.2f}, α={alpha:.2f}',\n",
    "        xaxis_title='Molar Fraction in the Retentate',\n",
    "        yaxis_title='Molar Fraction in the Permeate',\n",
    "        xaxis=dict(range=[0, 1]),\n",
    "        yaxis=dict(range=[0, 1]),\n",
    "        width=800,\n",
    "        height=600\n",
    "    )\n",
    "\n",
    "    #print(f\"Operating point -> x = {x_set:.4f}, y = {y_set:.4f}\")\n",
    "    \n",
    "    fig.show()\n",
    "\n",
    "# Create sliders\n",
    "theta_slider = widgets.FloatSlider(value=0.5, min=0.001, max=0.99, step=0.001, description='$\\\\theta$ ')\n",
    "z_slider = widgets.FloatSlider(value=0.5, min=0, max=1, step=0.01, description='$z$ ')\n",
    "Pp_Pr_slider = widgets.FloatSlider(value=0.1, min=0.001, max=1, step=0.001, description='$P_p/P_r$ ')\n",
    "alpha_slider = widgets.FloatSlider(value=10, min=1, max=200, step=1, description='$\\\\alpha$ ')\n",
    "\n",
    "# Create and display interactive plot\n",
    "interactive_plot = interactive(plot_function, theta=theta_slider, z=z_slider, Pp_Pr=Pp_Pr_slider, alpha=alpha_slider)\n",
    "interactive_plot"
   ]
  },
  {
   "cell_type": "code",
   "execution_count": null,
   "id": "381570d2-48f5-445c-9030-e7d7a3e17ae6",
   "metadata": {},
   "outputs": [],
   "source": []
  }
 ],
 "metadata": {
  "kernelspec": {
   "display_name": "Python 3 (ipykernel)",
   "language": "python",
   "name": "python3"
  },
  "language_info": {
   "codemirror_mode": {
    "name": "ipython",
    "version": 3
   },
   "file_extension": ".py",
   "mimetype": "text/x-python",
   "name": "python",
   "nbconvert_exporter": "python",
   "pygments_lexer": "ipython3",
   "version": "3.11.10"
  }
 },
 "nbformat": 4,
 "nbformat_minor": 5
}
