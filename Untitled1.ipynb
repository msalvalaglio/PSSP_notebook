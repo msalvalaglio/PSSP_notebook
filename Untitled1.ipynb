{
 "cells": [
  {
   "cell_type": "code",
   "execution_count": 22,
   "metadata": {},
   "outputs": [
    {
     "name": "stdout",
     "output_type": "stream",
     "text": [
      "[-6.993294832113861e-13, 2.9726221484338566e-14, 1.3877787807814457e-17, 4.0813186164001536e-13, -1.4354940847116637e-12]\n",
      "\n",
      "Feed composition:  0.56  [-]\n",
      "Permeate composition:  0.3324  [-]\n",
      "Retentate composition:  0.1552  [-]\n",
      "Cut:  2.284 [-]\n",
      "Permeate flowrate:  0.06468  [mol/h]\n",
      "Feed flowrate:  0.02832  [mol/h]\n",
      "Retentate flowrate:  -0.03636  [mol/h]\n",
      "\n"
     ]
    }
   ],
   "source": [
    "## Solution trace\n",
    "import scipy as sp\n",
    "\n",
    "\n",
    "# Variables\n",
    "A=15 * 1E4 # [m^2 * cm^2 / m^2]\n",
    "P_r=5.5 * 101325 # [atm] * [Pa / atm]\n",
    "P_p=1.01 * 101325 # [atm] * [Pa / atm] \n",
    "l=2.0*1E-4 # cm\n",
    "rho_STP=1/22.4E3 # / [mol/cm3(stp)]\n",
    "PCO2=0.034E-13 * 3600 # [cm3(STP) * cm/cm2/s/Pa] * [s/h]\n",
    "PN2=0.089E-14 * 3600#  [cm3(STP) * cm/cm2/s/Pa] * [s/h]\n",
    "# Permeate Composition\n",
    "#y=0.43\n",
    "# Feed Composition\n",
    "z = 0.56\n",
    "\n",
    "alpha=PCO2/PN2\n",
    "Fin=0.02832\n",
    "\n",
    "def equations(vars):\n",
    "    x, y, Fp, Fr, theta = vars\n",
    "    eq1 = ((theta - 1) / theta) * x + (z / theta) - y\n",
    "    eq2 = x - (y * (1 + P_p/P_r * (1-y) * (alpha - 1)) / (alpha - (alpha - 1) * y))\n",
    "    eq3 = Fin - Fr - Fp\n",
    "    eq4 = Fp*y-A*PCO2*rho_STP / l * (x*P_r-y*P_p)\n",
    "    eq5 = Fin - (Fp/theta)\n",
    "    #eq4 = Fp*(1-y)-A*PN2*rho_STP / l * ((1-x)*P_r-(1-y)*P_p)\n",
    "    return [eq1, eq2, eq3, eq4, eq5]\n",
    "\n",
    "x, y, Fp, Fr, theta =  sp.optimize.fsolve(equations, (0.1, 0.1, 0.1, 0.1, 0.1))\n",
    "\n",
    "print(equations([x, y, Fp, Fr, theta]))\n",
    "\n",
    "print(\"\\nFeed composition: \", f\"{z:.4}\", \" [-]\")\n",
    "print(\"Permeate composition: \", f\"{y:.4}\", \" [-]\")\n",
    "print(\"Retentate composition: \", f\"{x:.4}\", \" [-]\")\n",
    "print(\"Cut: \", f\"{theta:.4}\", \"[-]\")\n",
    "print(\"Permeate flowrate: \", f\"{Fp:.4}\", \" [mol/h]\")\n",
    "print(\"Feed flowrate: \", f\"{Fin:.4}\",  \" [mol/h]\")\n",
    "print(\"Retentate flowrate: \", f\"{Fr:.4}\", \" [mol/h]\\n\")"
   ]
  },
  {
   "cell_type": "code",
   "execution_count": null,
   "metadata": {},
   "outputs": [],
   "source": []
  }
 ],
 "metadata": {
  "kernelspec": {
   "display_name": "Python 3 (ipykernel)",
   "language": "python",
   "name": "python3"
  },
  "language_info": {
   "codemirror_mode": {
    "name": "ipython",
    "version": 3
   },
   "file_extension": ".py",
   "mimetype": "text/x-python",
   "name": "python",
   "nbconvert_exporter": "python",
   "pygments_lexer": "ipython3",
   "version": "3.11.10"
  }
 },
 "nbformat": 4,
 "nbformat_minor": 4
}
